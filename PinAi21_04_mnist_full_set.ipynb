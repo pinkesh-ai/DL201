{
  "nbformat": 4,
  "nbformat_minor": 0,
  "metadata": {
    "jupytext": {
      "split_at_heading": true
    },
    "kernelspec": {
      "display_name": "Python 3",
      "language": "python",
      "name": "python3"
    },
    "colab": {
      "name": "PinAi21_04_mnist_full_set.ipynb",
      "provenance": [],
      "collapsed_sections": [
        "V4X8BwLDApAB",
        "OGePHgxcApAE",
        "wwKvqM1OApAF",
        "FE5rnwLDApAF",
        "gS7TnDJGApAG"
      ],
      "include_colab_link": true
    },
    "accelerator": "GPU"
  },
  "cells": [
    {
      "cell_type": "markdown",
      "metadata": {
        "id": "view-in-github",
        "colab_type": "text"
      },
      "source": [
        "<a href=\"https://colab.research.google.com/github/pinkesh-ai/DL201/blob/main/PinAi21_04_mnist_full_set.ipynb\" target=\"_parent\"><img src=\"https://colab.research.google.com/assets/colab-badge.svg\" alt=\"Open In Colab\"/></a>"
      ]
    },
    {
      "cell_type": "code",
      "metadata": {
        "id": "ismMd5FkAo-6",
        "colab": {
          "base_uri": "https://localhost:8080/"
        },
        "outputId": "7c4d5f35-fe8e-4790-8599-9227badc64aa"
      },
      "source": [
        "!pip install -Uqq fastbook\n",
        "import fastbook\n",
        "fastbook.setup_book()"
      ],
      "execution_count": null,
      "outputs": [
        {
          "output_type": "stream",
          "text": [
            "\u001b[K     |████████████████████████████████| 727kB 30.8MB/s \n",
            "\u001b[K     |████████████████████████████████| 1.2MB 38.1MB/s \n",
            "\u001b[K     |████████████████████████████████| 204kB 53.2MB/s \n",
            "\u001b[K     |████████████████████████████████| 51kB 7.5MB/s \n",
            "\u001b[K     |████████████████████████████████| 61kB 8.5MB/s \n",
            "\u001b[K     |████████████████████████████████| 61kB 9.3MB/s \n",
            "\u001b[?25hMounted at /content/gdrive\n"
          ],
          "name": "stdout"
        }
      ]
    },
    {
      "cell_type": "code",
      "metadata": {
        "id": "d984jeb0Ao-_"
      },
      "source": [
        "from fastai.vision.all import *\n",
        "from fastbook import *\n",
        "\n",
        "matplotlib.rc('image', cmap='Greys')"
      ],
      "execution_count": null,
      "outputs": []
    },
    {
      "cell_type": "markdown",
      "metadata": {
        "id": "zQ-L91uh_cX0"
      },
      "source": [
        "## Load full MNIST dataset"
      ]
    },
    {
      "cell_type": "markdown",
      "metadata": {
        "id": "ECAC3RfxAo_D"
      },
      "source": [
        "We are try to rerun the two classifiers built before to classify images as a 3 or a 7, but using the full dataset with 10 digits. So let's download the full MNIST datasets:"
      ]
    },
    {
      "cell_type": "code",
      "metadata": {
        "id": "z51wexCkAo_D",
        "colab": {
          "base_uri": "https://localhost:8080/",
          "height": 17
        },
        "outputId": "c03a77c7-281d-47c1-8244-473c96d6e7a3"
      },
      "source": [
        "path = untar_data(URLs.MNIST)    # Full dataset (0s to 9s)"
      ],
      "execution_count": null,
      "outputs": [
        {
          "output_type": "display_data",
          "data": {
            "text/html": [
              ""
            ],
            "text/plain": [
              "<IPython.core.display.HTML object>"
            ]
          },
          "metadata": {
            "tags": []
          }
        }
      ]
    },
    {
      "cell_type": "code",
      "metadata": {
        "id": "8cb6hPXoAo_D"
      },
      "source": [
        "Path.BASE_PATH = path"
      ],
      "execution_count": null,
      "outputs": []
    },
    {
      "cell_type": "code",
      "metadata": {
        "id": "1eHnXszSAo_E",
        "colab": {
          "base_uri": "https://localhost:8080/"
        },
        "outputId": "caefc0f4-b36e-448c-e530-126ff78cb3b7"
      },
      "source": [
        "path.ls()"
      ],
      "execution_count": null,
      "outputs": [
        {
          "output_type": "execute_result",
          "data": {
            "text/plain": [
              "(#2) [Path('training'),Path('testing')]"
            ]
          },
          "metadata": {
            "tags": []
          },
          "execution_count": 5
        }
      ]
    },
    {
      "cell_type": "code",
      "metadata": {
        "id": "7N8WAogvAo_G",
        "colab": {
          "base_uri": "https://localhost:8080/"
        },
        "outputId": "6a646c79-edd8-4e82-d6d3-8d6e42c541f5"
      },
      "source": [
        "(path/'training').ls()"
      ],
      "execution_count": null,
      "outputs": [
        {
          "output_type": "execute_result",
          "data": {
            "text/plain": [
              "(#10) [Path('training/2'),Path('training/0'),Path('training/8'),Path('training/7'),Path('training/3'),Path('training/6'),Path('training/5'),Path('training/1'),Path('training/4'),Path('training/9')]"
            ]
          },
          "metadata": {
            "tags": []
          },
          "execution_count": 6
        }
      ]
    },
    {
      "cell_type": "markdown",
      "metadata": {
        "id": "2pVC0CapAo_H"
      },
      "source": [
        "There's a folder for each digit from 0s to 9s. Let's take a look in one of these folders \n",
        "``` python\n",
        "    paths_dict = {0: [list of the paths to images of 0],\n",
        "                  1: [list of the paths to images of 1],\n",
        "\n",
        "                  i: [list of the paths to images of i],\n",
        "\n",
        "                  9: [list of the paths to images of 9],\n",
        "                 }\n",
        "```"
      ]
    },
    {
      "cell_type": "code",
      "metadata": {
        "id": "NPjkeRxyAo_H",
        "colab": {
          "base_uri": "https://localhost:8080/"
        },
        "outputId": "50f13b41-1484-4a3e-f7b2-4d8959a7adfe"
      },
      "source": [
        "paths_dict = {}         # Create an empty dictionary to hold the paths list for each digit\n",
        "for i in range(10):\n",
        "    paths_dict[i] = (path/'training'/f\"{i}\").ls().sorted()   # add the list of path for digit i to the dict\n",
        "\n",
        "paths_dict"
      ],
      "execution_count": null,
      "outputs": [
        {
          "output_type": "execute_result",
          "data": {
            "text/plain": [
              "{0: (#5923) [Path('training/0/1.png'),Path('training/0/1000.png'),Path('training/0/10005.png'),Path('training/0/10010.png'),Path('training/0/10022.png'),Path('training/0/10025.png'),Path('training/0/10026.png'),Path('training/0/10045.png'),Path('training/0/10069.png'),Path('training/0/10071.png')...],\n",
              " 1: (#6742) [Path('training/1/10006.png'),Path('training/1/10007.png'),Path('training/1/1002.png'),Path('training/1/10020.png'),Path('training/1/10027.png'),Path('training/1/1003.png'),Path('training/1/10040.png'),Path('training/1/10048.png'),Path('training/1/10058.png'),Path('training/1/10067.png')...],\n",
              " 2: (#5958) [Path('training/2/10009.png'),Path('training/2/10016.png'),Path('training/2/10024.png'),Path('training/2/10029.png'),Path('training/2/10072.png'),Path('training/2/10073.png'),Path('training/2/10075.png'),Path('training/2/10078.png'),Path('training/2/10081.png'),Path('training/2/10082.png')...],\n",
              " 3: (#6131) [Path('training/3/10.png'),Path('training/3/10000.png'),Path('training/3/10011.png'),Path('training/3/10031.png'),Path('training/3/10034.png'),Path('training/3/10042.png'),Path('training/3/10052.png'),Path('training/3/1007.png'),Path('training/3/10074.png'),Path('training/3/10091.png')...],\n",
              " 4: (#5842) [Path('training/4/10013.png'),Path('training/4/10018.png'),Path('training/4/10033.png'),Path('training/4/1004.png'),Path('training/4/1006.png'),Path('training/4/10060.png'),Path('training/4/1008.png'),Path('training/4/10103.png'),Path('training/4/10104.png'),Path('training/4/10114.png')...],\n",
              " 5: (#5421) [Path('training/5/0.png'),Path('training/5/100.png'),Path('training/5/10008.png'),Path('training/5/10015.png'),Path('training/5/10030.png'),Path('training/5/10035.png'),Path('training/5/10049.png'),Path('training/5/10051.png'),Path('training/5/10056.png'),Path('training/5/10062.png')...],\n",
              " 6: (#5918) [Path('training/6/10017.png'),Path('training/6/10032.png'),Path('training/6/10036.png'),Path('training/6/10037.png'),Path('training/6/10044.png'),Path('training/6/10053.png'),Path('training/6/10076.png'),Path('training/6/10089.png'),Path('training/6/10101.png'),Path('training/6/10108.png')...],\n",
              " 7: (#6265) [Path('training/7/10002.png'),Path('training/7/1001.png'),Path('training/7/10014.png'),Path('training/7/10019.png'),Path('training/7/10039.png'),Path('training/7/10046.png'),Path('training/7/10050.png'),Path('training/7/10063.png'),Path('training/7/10077.png'),Path('training/7/10086.png')...],\n",
              " 8: (#5851) [Path('training/8/10001.png'),Path('training/8/10012.png'),Path('training/8/10021.png'),Path('training/8/10041.png'),Path('training/8/10054.png'),Path('training/8/10057.png'),Path('training/8/10061.png'),Path('training/8/10064.png'),Path('training/8/10066.png'),Path('training/8/10079.png')...],\n",
              " 9: (#5949) [Path('training/9/10003.png'),Path('training/9/10004.png'),Path('training/9/10023.png'),Path('training/9/10028.png'),Path('training/9/10038.png'),Path('training/9/10043.png'),Path('training/9/10047.png'),Path('training/9/1005.png'),Path('training/9/10055.png'),Path('training/9/10059.png')...]}"
            ]
          },
          "metadata": {
            "tags": []
          },
          "execution_count": 7
        }
      ]
    },
    {
      "cell_type": "markdown",
      "metadata": {
        "id": "312NwVltAo_I"
      },
      "source": [
        "Let’s take a look at one image for each of the digits:"
      ]
    },
    {
      "cell_type": "code",
      "metadata": {
        "id": "bjWBvBVMAo_I",
        "colab": {
          "base_uri": "https://localhost:8080/",
          "height": 297
        },
        "outputId": "2d2fcbfc-12fa-4fd0-eb94-43e3d55c8361"
      },
      "source": [
        "for i in range(10):\n",
        "    img_paths = paths_dict[i][3]\n",
        "    img = Image.open(img_paths)\n",
        "    display(img)"
      ],
      "execution_count": null,
      "outputs": [
        {
          "output_type": "display_data",
          "data": {
            "image/png": "[encoded data removed]",
            "text/plain": [
              "<PIL.PngImagePlugin.PngImageFile image mode=L size=28x28 at 0x7F4AD1B05510>"
            ]
          },
          "metadata": {
            "tags": []
          }
        },
        {
          "output_type": "display_data",
          "data": {
            "image/png": "[encoded data removed]",
            "text/plain": [
              "<PIL.PngImagePlugin.PngImageFile image mode=L size=28x28 at 0x7F4AD2433590>"
            ]
          },
          "metadata": {
            "tags": []
          }
        },
        {
          "output_type": "display_data",
          "data": {
            "image/png": "[encoded data removed]",
            "text/plain": [
              "<PIL.PngImagePlugin.PngImageFile image mode=L size=28x28 at 0x7F4AD1A6E490>"
            ]
          },
          "metadata": {
            "tags": []
          }
        },
        {
          "output_type": "display_data",
          "data": {
            "image/png": "[encoded data removed]",
            "text/plain": [
              "<PIL.PngImagePlugin.PngImageFile image mode=L size=28x28 at 0x7F4AD1A6E950>"
            ]
          },
          "metadata": {
            "tags": []
          }
        },
        {
          "output_type": "display_data",
          "data": {
            "image/png": "[encoded data removed]",
            "text/plain": [
              "<PIL.PngImagePlugin.PngImageFile image mode=L size=28x28 at 0x7F4AD1A6EA90>"
            ]
          },
          "metadata": {
            "tags": []
          }
        },
        {
          "output_type": "display_data",
          "data": {
            "image/png": "[encoded data removed]",
            "text/plain": [
              "<PIL.PngImagePlugin.PngImageFile image mode=L size=28x28 at 0x7F4AD1A6E790>"
            ]
          },
          "metadata": {
            "tags": []
          }
        },
        {
          "output_type": "display_data",
          "data": {
            "image/png": "[encoded data removed]",
            "text/plain": [
              "<PIL.PngImagePlugin.PngImageFile image mode=L size=28x28 at 0x7F4AD1B05510>"
            ]
          },
          "metadata": {
            "tags": []
          }
        },
        {
          "output_type": "display_data",
          "data": {
            "image/png": "[encoded data removed]",
            "text/plain": [
              "<PIL.PngImagePlugin.PngImageFile image mode=L size=28x28 at 0x7F4AD1A6EB90>"
            ]
          },
          "metadata": {
            "tags": []
          }
        },
        {
          "output_type": "display_data",
          "data": {
            "image/png": "[encoded data removed]",
            "text/plain": [
              "<PIL.PngImagePlugin.PngImageFile image mode=L size=28x28 at 0x7F4AD1A6ED90>"
            ]
          },
          "metadata": {
            "tags": []
          }
        },
        {
          "output_type": "display_data",
          "data": {
            "image/png": "[encoded data removed]",
            "text/plain": [
              "<PIL.PngImagePlugin.PngImageFile image mode=L size=28x28 at 0x7F4AD1A6EDD0>"
            ]
          },
          "metadata": {
            "tags": []
          }
        }
      ]
    },
    {
      "cell_type": "markdown",
      "metadata": {
        "id": "enZri5pkAo_J"
      },
      "source": [
        "We can store the image in a tensor and slice it to pick some part of the image. We then use a Pandas DataFrame to color-code the values using a gradient, which shows us clearly how the image is created from the pixel values:"
      ]
    },
    {
      "cell_type": "markdown",
      "metadata": {
        "id": "zbju2SOjAo_K"
      },
      "source": [
        "## Baseline model: Pixel Similarity"
      ]
    },
    {
      "cell_type": "markdown",
      "metadata": {
        "id": "3Nu_zxJnAo_L"
      },
      "source": [
        "Step one for our simple model is to get the average of pixel values for the groups of images for each pixel.\n",
        "\n",
        "Let's create a tensor containing all of the images representing a single digit, stacked together."
      ]
    },
    {
      "cell_type": "code",
      "metadata": {
        "id": "K-QBaP57Ao_L"
      },
      "source": [
        "tensors_dict = {}\n",
        "for i in range(10):\n",
        "    tensors_dict[i] = [tensor(Image.open(o)) for o in paths_dict[i]]"
      ],
      "execution_count": null,
      "outputs": []
    },
    {
      "cell_type": "code",
      "metadata": {
        "colab": {
          "base_uri": "https://localhost:8080/",
          "height": 208
        },
        "id": "3lr9h45QANvp",
        "outputId": "35a8aebe-0029-4896-ec31-fc18900e731c"
      },
      "source": [
        "# Show the number of images for each digit\n",
        "print(f'Total number of images: {sum([len(v) for k, v in tensors_dict.items()]):,d}')\n",
        "display([f\"{len(v):,d} images for {k}\" for k, v in tensors_dict.items()])\n"
      ],
      "execution_count": null,
      "outputs": [
        {
          "output_type": "stream",
          "text": [
            "Total number of images: 60,000\n"
          ],
          "name": "stdout"
        },
        {
          "output_type": "display_data",
          "data": {
            "text/plain": [
              "['5,923 images for 0',\n",
              " '6,742 images for 1',\n",
              " '5,958 images for 2',\n",
              " '6,131 images for 3',\n",
              " '5,842 images for 4',\n",
              " '5,421 images for 5',\n",
              " '5,918 images for 6',\n",
              " '6,265 images for 7',\n",
              " '5,851 images for 8',\n",
              " '5,949 images for 9']"
            ]
          },
          "metadata": {
            "tags": []
          }
        }
      ]
    },
    {
      "cell_type": "markdown",
      "metadata": {
        "id": "lLNeQOo3Ao_M"
      },
      "source": [
        "We'll also check that one of the images looks okay. "
      ]
    },
    {
      "cell_type": "code",
      "metadata": {
        "id": "fhPxcHn1Ao_M",
        "colab": {
          "base_uri": "https://localhost:8080/",
          "height": 153
        },
        "outputId": "4163ef71-0687-43bd-df34-edef4cdccf89"
      },
      "source": [
        "show_image(tensors_dict[2][1])\n",
        "show_image(tensors_dict[9][1]);"
      ],
      "execution_count": null,
      "outputs": [
        {
          "output_type": "display_data",
          "data": {
            "image/png": "[encoded data removed]",
            "text/plain": [
              "<Figure size 72x72 with 1 Axes>"
            ]
          },
          "metadata": {
            "tags": [],
            "needs_background": "light"
          }
        },
        {
          "output_type": "display_data",
          "data": {
            "image/png": "[encoded data removed]",
            "text/plain": [
              "<Figure size 72x72 with 1 Axes>"
            ]
          },
          "metadata": {
            "tags": [],
            "needs_background": "light"
          }
        }
      ]
    },
    {
      "cell_type": "markdown",
      "metadata": {
        "id": "MVISc1SpAo_N"
      },
      "source": [
        "For every pixel position, we want to compute the average over all the images of the intensity of that pixel."
      ]
    },
    {
      "cell_type": "code",
      "metadata": {
        "id": "em4pFaPTAo_N"
      },
      "source": [
        "# Calculate the stacked tensor for each of the digit and store that tensor in a dictionary index by digit\n",
        "stacked_tensors_dict = {}\n",
        "for digit, img_tensor in tensors_dict.items():\n",
        "    stacked_tensors_dict[digit] = torch.stack(img_tensor).float()/255"
      ],
      "execution_count": null,
      "outputs": []
    },
    {
      "cell_type": "markdown",
      "metadata": {
        "id": "dvddIlsBAo_N"
      },
      "source": [
        "Perhaps the most important attribute of a tensor is its *shape*. This tells you the length of each axis. In this case, we can see that we have around 6,000 images for each digit, each image of size 28×28 pixels. "
      ]
    },
    {
      "cell_type": "code",
      "metadata": {
        "colab": {
          "base_uri": "https://localhost:8080/"
        },
        "id": "HR_70dP0CDmt",
        "outputId": "a5f7fdcd-331d-4d90-de51-59d5ad48b7b6"
      },
      "source": [
        "print('Shapes of image tensor for each digit:')\n",
        "for digit, img_tensor in stacked_tensors_dict.items():\n",
        "    print('   ', digit, ': ', stacked_tensors_dict[digit].shape)"
      ],
      "execution_count": null,
      "outputs": [
        {
          "output_type": "stream",
          "text": [
            "Shapes of image tensor for each digit:\n",
            "    0 :  torch.Size([5923, 28, 28])\n",
            "    1 :  torch.Size([6742, 28, 28])\n",
            "    2 :  torch.Size([5958, 28, 28])\n",
            "    3 :  torch.Size([6131, 28, 28])\n",
            "    4 :  torch.Size([5842, 28, 28])\n",
            "    5 :  torch.Size([5421, 28, 28])\n",
            "    6 :  torch.Size([5918, 28, 28])\n",
            "    7 :  torch.Size([6265, 28, 28])\n",
            "    8 :  torch.Size([5851, 28, 28])\n",
            "    9 :  torch.Size([5949, 28, 28])\n"
          ],
          "name": "stdout"
        }
      ]
    },
    {
      "cell_type": "markdown",
      "metadata": {
        "id": "eioTreEvAo_O"
      },
      "source": [
        "Finally, we can compute what the ideal digit image looks like.or a single image. Here it is:"
      ]
    },
    {
      "cell_type": "code",
      "metadata": {
        "id": "imwKFV7kAo_P",
        "colab": {
          "base_uri": "https://localhost:8080/",
          "height": 697
        },
        "outputId": "2a319e8a-3113-40d2-d4df-a54500bd185c"
      },
      "source": [
        "means_dict = {}\n",
        "for digit, tnsr in stacked_tensors_dict.items():\n",
        "    means_dict[digit] = stacked_tensors_dict[digit].mean(0)\n",
        "    show_image(means_dict[digit])"
      ],
      "execution_count": null,
      "outputs": [
        {
          "output_type": "display_data",
          "data": {
            "image/png": "[encoded data removed]",
            "text/plain": [
              "<Figure size 72x72 with 1 Axes>"
            ]
          },
          "metadata": {
            "tags": [],
            "needs_background": "light"
          }
        },
        {
          "output_type": "display_data",
          "data": {
            "image/png": "[encoded data removed]",
            "text/plain": [
              "<Figure size 72x72 with 1 Axes>"
            ]
          },
          "metadata": {
            "tags": [],
            "needs_background": "light"
          }
        },
        {
          "output_type": "display_data",
          "data": {
            "image/png": "[encoded data removed]",
            "text/plain": [
              "<Figure size 72x72 with 1 Axes>"
            ]
          },
          "metadata": {
            "tags": [],
            "needs_background": "light"
          }
        },
        {
          "output_type": "display_data",
          "data": {
            "image/png": "[encoded data removed]",
            "text/plain": [
              "<Figure size 72x72 with 1 Axes>"
            ]
          },
          "metadata": {
            "tags": [],
            "needs_background": "light"
          }
        },
        {
          "output_type": "display_data",
          "data": {
            "image/png": "[encoded data removed]",
            "text/plain": [
              "<Figure size 72x72 with 1 Axes>"
            ]
          },
          "metadata": {
            "tags": [],
            "needs_background": "light"
          }
        },
        {
          "output_type": "display_data",
          "data": {
            "image/png": "[encoded data removed]",
            "text/plain": [
              "<Figure size 72x72 with 1 Axes>"
            ]
          },
          "metadata": {
            "tags": [],
            "needs_background": "light"
          }
        },
        {
          "output_type": "display_data",
          "data": {
            "image/png": "[encoded data removed]",
            "text/plain": [
              "<Figure size 72x72 with 1 Axes>"
            ]
          },
          "metadata": {
            "tags": [],
            "needs_background": "light"
          }
        },
        {
          "output_type": "display_data",
          "data": {
            "image/png": "[encoded data removed]",
            "text/plain": [
              "<Figure size 72x72 with 1 Axes>"
            ]
          },
          "metadata": {
            "tags": [],
            "needs_background": "light"
          }
        },
        {
          "output_type": "display_data",
          "data": {
            "image/png": "[encoded data removed]",
            "text/plain": [
              "<Figure size 72x72 with 1 Axes>"
            ]
          },
          "metadata": {
            "tags": [],
            "needs_background": "light"
          }
        },
        {
          "output_type": "display_data",
          "data": {
            "image/png": "[encoded data removed]",
            "text/plain": [
              "<Figure size 72x72 with 1 Axes>"
            ]
          },
          "metadata": {
            "tags": [],
            "needs_background": "light"
          }
        }
      ]
    },
    {
      "cell_type": "markdown",
      "metadata": {
        "id": "hel27ng0Ao_P"
      },
      "source": [
        "According to this dataset, these are the ideal images for each of the digits"
      ]
    },
    {
      "cell_type": "markdown",
      "metadata": {
        "id": "lp5ha0ANCoSr"
      },
      "source": [
        "Here's a sample image of one digit:"
      ]
    },
    {
      "cell_type": "code",
      "metadata": {
        "id": "ICZFvZHHAo_P",
        "colab": {
          "base_uri": "https://localhost:8080/",
          "height": 85
        },
        "outputId": "1b7d06c0-0c0c-401f-df03-5ca7283bf924"
      },
      "source": [
        "selected_digit = 3\n",
        "img = stacked_tensors_dict[selected_digit][2]\n",
        "show_image(img);"
      ],
      "execution_count": null,
      "outputs": [
        {
          "output_type": "display_data",
          "data": {
            "image/png": "[encoded data removed]",
            "text/plain": [
              "<Figure size 72x72 with 1 Axes>"
            ]
          },
          "metadata": {
            "tags": [],
            "needs_background": "light"
          }
        }
      ]
    },
    {
      "cell_type": "markdown",
      "metadata": {
        "id": "ypkq4CqSAo_P"
      },
      "source": [
        "Let's compare again our Mean Absolute Error (MAE) and Mean Square Error (MSE)"
      ]
    },
    {
      "cell_type": "code",
      "metadata": {
        "id": "UTs8ufStAo_Q",
        "colab": {
          "base_uri": "https://localhost:8080/"
        },
        "outputId": "388b9f73-5491-4b75-977d-4b4c350801b8"
      },
      "source": [
        "dist_3_mae = (img - means_dict[3]).abs().mean()\n",
        "dist_3_mse = ((img - means_dict[3])**2).mean().sqrt()\n",
        "dist_3_mae, dist_3_mse"
      ],
      "execution_count": null,
      "outputs": [
        {
          "output_type": "execute_result",
          "data": {
            "text/plain": [
              "(tensor(0.1100), tensor(0.1980))"
            ]
          },
          "metadata": {
            "tags": []
          },
          "execution_count": 17
        }
      ]
    },
    {
      "cell_type": "code",
      "metadata": {
        "id": "xt4MbXJ-Ao_Q",
        "colab": {
          "base_uri": "https://localhost:8080/"
        },
        "outputId": "dc64c917-20a6-448d-c2f9-bc7f91207dcf"
      },
      "source": [
        "dist_7_mae = (img - means_dict[7]).abs().mean()\n",
        "dist_7_mse = ((img - means_dict[7])**2).mean().sqrt()\n",
        "dist_7_mae, dist_7_mse"
      ],
      "execution_count": null,
      "outputs": [
        {
          "output_type": "execute_result",
          "data": {
            "text/plain": [
              "(tensor(0.1541), tensor(0.2974))"
            ]
          },
          "metadata": {
            "tags": []
          },
          "execution_count": 18
        }
      ]
    },
    {
      "cell_type": "markdown",
      "metadata": {
        "id": "6quCmrdveh5n"
      },
      "source": [
        "Let's visualize what these distances mean:"
      ]
    },
    {
      "cell_type": "code",
      "metadata": {
        "colab": {
          "base_uri": "https://localhost:8080/",
          "height": 381
        },
        "id": "KXN1-_VDRT_G",
        "outputId": "7c74966e-a30a-45e4-a3eb-1a55289d997e"
      },
      "source": [
        "digit = 4\n",
        "img = stacked_tensors_dict[digit][10]\n",
        "\n",
        "fig, axs = plt.subplots(nrows=1, ncols=11, figsize=(18,5))\n",
        "for i in range(10):\n",
        "    show_image(means_dict[i], title=f\"Mean {i}\", ax=axs[i+1])\n",
        "show_image(img, title='Image to compare', ax=axs[0])\n",
        "plt.show()\n",
        "\n",
        "print('\\nSimple Difference:')\n",
        "fig, axs = plt.subplots(nrows=1, ncols=11, figsize=(18,5))\n",
        "for i in range(10):\n",
        "    show_image((img - means_dict[i]), title=f'with {i}', ax=axs[i+1])\n",
        "show_image(img, title='Image to compare', ax=axs[0])\n",
        "plt.show()\n",
        "\n",
        "print('\\nMAE - Mean Absolute Error:')\n",
        "fig, axs = plt.subplots(nrows=1, ncols=11, figsize=(18,5))\n",
        "for i in range(10):\n",
        "    show_image((img - means_dict[i]).abs(), title=f'with {i}', ax=axs[i+1])\n",
        "show_image(img, title='Image to compare', ax=axs[0])\n",
        "plt.show()\n",
        "\n",
        "print('\\nMSE - Mean Squared Error:')\n",
        "fig, axs = plt.subplots(nrows=1, ncols=11, figsize=(18,5))\n",
        "for i in range(10):\n",
        "    show_image((img - means_dict[i]).square(), title=f'with {i}', ax=axs[i+1])\n",
        "show_image(img, title='Image to compare', ax=axs[0])\n",
        "plt.show()"
      ],
      "execution_count": null,
      "outputs": [
        {
          "output_type": "display_data",
          "data": {
            "image/png": "[encoded data removed]",
            "text/plain": [
              "<Figure size 1296x360 with 11 Axes>"
            ]
          },
          "metadata": {
            "tags": [],
            "needs_background": "light"
          }
        },
        {
          "output_type": "stream",
          "text": [
            "\n",
            "Simple Difference:\n"
          ],
          "name": "stdout"
        },
        {
          "output_type": "display_data",
          "data": {
            "image/png": "[encoded data removed]",
            "text/plain": [
              "<Figure size 1296x360 with 11 Axes>"
            ]
          },
          "metadata": {
            "tags": [],
            "needs_background": "light"
          }
        },
        {
          "output_type": "stream",
          "text": [
            "\n",
            "MAE - Mean Absolute Error:\n"
          ],
          "name": "stdout"
        },
        {
          "output_type": "display_data",
          "data": {
            "image/png": "[encoded data removed]",
            "text/plain": [
              "<Figure size 1296x360 with 11 Axes>"
            ]
          },
          "metadata": {
            "tags": [],
            "needs_background": "light"
          }
        },
        {
          "output_type": "stream",
          "text": [
            "\n",
            "MSE - Mean Squared Error:\n"
          ],
          "name": "stdout"
        },
        {
          "output_type": "display_data",
          "data": {
            "image/png": "[encoded data removed]",
            "text/plain": [
              "<Figure size 1296x360 with 11 Axes>"
            ]
          },
          "metadata": {
            "tags": [],
            "needs_background": "light"
          }
        }
      ]
    },
    {
      "cell_type": "markdown",
      "metadata": {
        "id": "KhRFcuqwAo_Q"
      },
      "source": [
        "PyTorch already provides both of these as *loss functions*. You'll find these inside `torch.nn.functional`, which the PyTorch team recommends importing as `F` (and is available by default under that name in fastai):"
      ]
    },
    {
      "cell_type": "code",
      "metadata": {
        "id": "E2aPZy-3Ao_Q",
        "colab": {
          "base_uri": "https://localhost:8080/"
        },
        "outputId": "366025d9-16ac-4767-f6df-785b8b521e7c"
      },
      "source": [
        "F.l1_loss(img.float(),means_dict[7]), F.mse_loss(img, means_dict[7]).sqrt()  "
      ],
      "execution_count": null,
      "outputs": [
        {
          "output_type": "execute_result",
          "data": {
            "text/plain": [
              "(tensor(0.1161), tensor(0.2299))"
            ]
          },
          "metadata": {
            "tags": []
          },
          "execution_count": 20
        }
      ]
    },
    {
      "cell_type": "markdown",
      "metadata": {
        "id": "72-jn9W-Ao_Y"
      },
      "source": [
        "So, is our baseline model any good? To quantify this, we must define a metric."
      ]
    },
    {
      "cell_type": "markdown",
      "metadata": {
        "id": "KJVX90_NHIui"
      },
      "source": [
        "### Create validation set"
      ]
    },
    {
      "cell_type": "code",
      "metadata": {
        "id": "5S4A7eEjAo_Z",
        "colab": {
          "base_uri": "https://localhost:8080/"
        },
        "outputId": "4f6a05a6-0b78-48e9-8437-9d074a8a5f6b"
      },
      "source": [
        "valid_tensors_dict = {}\n",
        "\n",
        "for digit, tnrs in stacked_tensors_dict.items():\n",
        "    valid_tensors_dict[digit] = torch.stack([tensor(Image.open(o)) \n",
        "                                             for o in (path/'testing'/f\"{digit}\").ls()])\n",
        "    valid_tensors_dict[digit] = valid_tensors_dict[digit].float()/255\n",
        "    print('shape for',digit, ':', valid_tensors_dict[digit].shape)"
      ],
      "execution_count": null,
      "outputs": [
        {
          "output_type": "stream",
          "text": [
            "shape for 0 : torch.Size([980, 28, 28])\n",
            "shape for 1 : torch.Size([1135, 28, 28])\n",
            "shape for 2 : torch.Size([1032, 28, 28])\n",
            "shape for 3 : torch.Size([1010, 28, 28])\n",
            "shape for 4 : torch.Size([982, 28, 28])\n",
            "shape for 5 : torch.Size([892, 28, 28])\n",
            "shape for 6 : torch.Size([958, 28, 28])\n",
            "shape for 7 : torch.Size([1028, 28, 28])\n",
            "shape for 8 : torch.Size([974, 28, 28])\n",
            "shape for 9 : torch.Size([1009, 28, 28])\n"
          ],
          "name": "stdout"
        }
      ]
    },
    {
      "cell_type": "markdown",
      "metadata": {
        "id": "QQylH3NjHWcs"
      },
      "source": [
        "It's good to get in the habit of checking shapes as you go. Here we see 10 tensors, each representing one digit validation set of about 1,000 images of size 28×28. Total number of validation images is 10,000."
      ]
    },
    {
      "cell_type": "code",
      "metadata": {
        "colab": {
          "base_uri": "https://localhost:8080/"
        },
        "id": "RzgqkBhoHXET",
        "outputId": "3ea08180-6414-4767-ecab-4c4c42096648"
      },
      "source": [
        "print('Shapes of image tensor for each digit:')\n",
        "for digit, tnrs in valid_tensors_dict.items():\n",
        "    print(' shape for',digit, ':', valid_tensors_dict[digit].shape)"
      ],
      "execution_count": null,
      "outputs": [
        {
          "output_type": "stream",
          "text": [
            "Shapes of image tensor for each digit:\n",
            " shape for 0 : torch.Size([980, 28, 28])\n",
            " shape for 1 : torch.Size([1135, 28, 28])\n",
            " shape for 2 : torch.Size([1032, 28, 28])\n",
            " shape for 3 : torch.Size([1010, 28, 28])\n",
            " shape for 4 : torch.Size([982, 28, 28])\n",
            " shape for 5 : torch.Size([892, 28, 28])\n",
            " shape for 6 : torch.Size([958, 28, 28])\n",
            " shape for 7 : torch.Size([1028, 28, 28])\n",
            " shape for 8 : torch.Size([974, 28, 28])\n",
            " shape for 9 : torch.Size([1009, 28, 28])\n"
          ],
          "name": "stdout"
        }
      ]
    },
    {
      "cell_type": "markdown",
      "metadata": {
        "id": "8Nt2VHIgKQqq"
      },
      "source": [
        "### Loss - Metric"
      ]
    },
    {
      "cell_type": "markdown",
      "metadata": {
        "id": "5F0iV2cFUxc-"
      },
      "source": [
        "Code for this approach:\n",
        "\n",
        "1. We keep the same distance as before, that is MAE:"
      ]
    },
    {
      "cell_type": "code",
      "metadata": {
        "id": "3ViXqzG1Ao_Z",
        "colab": {
          "base_uri": "https://localhost:8080/"
        },
        "outputId": "16a3bbee-fa78-4dca-81c5-ceaa85a746d7"
      },
      "source": [
        "def mnist_distance(a, b): \n",
        "    return (a - b).abs().mean((-1, -2))\n",
        "\n",
        "mnist_distance(img, means_dict[7])"
      ],
      "execution_count": null,
      "outputs": [
        {
          "output_type": "execute_result",
          "data": {
            "text/plain": [
              "tensor(0.1161)"
            ]
          },
          "metadata": {
            "tags": []
          },
          "execution_count": 23
        }
      ]
    },
    {
      "cell_type": "markdown",
      "metadata": {
        "id": "kXZl2iB5O72Q"
      },
      "source": [
        "2. We compute the distance to each digit mean"
      ]
    },
    {
      "cell_type": "code",
      "metadata": {
        "colab": {
          "base_uri": "https://localhost:8080/",
          "height": 259
        },
        "id": "F8mgpjNbPA0g",
        "outputId": "015a60fd-3187-466d-9bb5-dd23cc308ca4"
      },
      "source": [
        "# Select an image to compate\n",
        "img_tnsr = valid_tensors_dict[8][559]\n",
        "show_image(img_tnsr)\n",
        "plt.show()\n",
        "\n",
        "for i in range(10):\n",
        "    print(f\"Distance between image and {i} is {mnist_distance(img_tnsr, means_dict[i])} \")"
      ],
      "execution_count": null,
      "outputs": [
        {
          "output_type": "display_data",
          "data": {
            "image/png": "[encoded data removed]",
            "text/plain": [
              "<Figure size 72x72 with 1 Axes>"
            ]
          },
          "metadata": {
            "tags": [],
            "needs_background": "light"
          }
        },
        {
          "output_type": "stream",
          "text": [
            "Distance between image and 0 is 0.16634075343608856 \n",
            "Distance between image and 1 is 0.11421868950128555 \n",
            "Distance between image and 2 is 0.1429552286863327 \n",
            "Distance between image and 3 is 0.12959136068820953 \n",
            "Distance between image and 4 is 0.14074993133544922 \n",
            "Distance between image and 5 is 0.1344362497329712 \n",
            "Distance between image and 6 is 0.15652191638946533 \n",
            "Distance between image and 7 is 0.14457924664020538 \n",
            "Distance between image and 8 is 0.11600539088249207 \n",
            "Distance between image and 9 is 0.13203886151313782 \n"
          ],
          "name": "stdout"
        }
      ]
    },
    {
      "cell_type": "markdown",
      "metadata": {
        "id": "reRtNDT8PbXg"
      },
      "source": [
        "The smallest distance should represent the correct digit. In this case it is correct."
      ]
    },
    {
      "cell_type": "markdown",
      "metadata": {
        "id": "YXj4B1VyPia6"
      },
      "source": [
        "With broadcasting, we also can apply the distance to all the images of one class/digit at the same time. `mnist_distance` should return a tensor with the distances for all the images in the batch."
      ]
    },
    {
      "cell_type": "code",
      "metadata": {
        "colab": {
          "base_uri": "https://localhost:8080/",
          "height": 52
        },
        "id": "hYjPk8OEJP6R",
        "outputId": "90c21d17-41d2-4025-e213-d7680a2cd7d1"
      },
      "source": [
        "# Select a batch with all the images representing one digit\n",
        "img_tnsr = stacked_tensors_dict[8]\n",
        "\n",
        "distances = mnist_distance(img_tnsr, means_dict[7])\n",
        "display(distances.shape)\n",
        "display(distances)"
      ],
      "execution_count": null,
      "outputs": [
        {
          "output_type": "display_data",
          "data": {
            "text/plain": [
              "torch.Size([5851])"
            ]
          },
          "metadata": {
            "tags": []
          }
        },
        {
          "output_type": "display_data",
          "data": {
            "text/plain": [
              "tensor([0.1501, 0.1984, 0.1541,  ..., 0.1339, 0.1280, 0.1585])"
            ]
          },
          "metadata": {
            "tags": []
          }
        }
      ]
    },
    {
      "cell_type": "code",
      "metadata": {
        "colab": {
          "base_uri": "https://localhost:8080/",
          "height": 191
        },
        "id": "5jfV1_NGKFf5",
        "outputId": "130ca8d5-a5c4-4214-a834-55b79dcba1d6"
      },
      "source": [
        "# Show distances to all the digits\n",
        "img_tnsr = stacked_tensors_dict[8]\n",
        "\n",
        "for i in range(10):\n",
        "    display(mnist_distance(img_tnsr, means_dict[i]))"
      ],
      "execution_count": null,
      "outputs": [
        {
          "output_type": "display_data",
          "data": {
            "text/plain": [
              "tensor([0.1795, 0.2126, 0.1797,  ..., 0.1697, 0.1837, 0.1942])"
            ]
          },
          "metadata": {
            "tags": []
          }
        },
        {
          "output_type": "display_data",
          "data": {
            "text/plain": [
              "tensor([0.1039, 0.2042, 0.0930,  ..., 0.1016, 0.0990, 0.1375])"
            ]
          },
          "metadata": {
            "tags": []
          }
        },
        {
          "output_type": "display_data",
          "data": {
            "text/plain": [
              "tensor([0.1480, 0.2038, 0.1472,  ..., 0.1283, 0.1469, 0.1563])"
            ]
          },
          "metadata": {
            "tags": []
          }
        },
        {
          "output_type": "display_data",
          "data": {
            "text/plain": [
              "tensor([0.1456, 0.1777, 0.1394,  ..., 0.1344, 0.1268, 0.1538])"
            ]
          },
          "metadata": {
            "tags": []
          }
        },
        {
          "output_type": "display_data",
          "data": {
            "text/plain": [
              "tensor([0.1559, 0.2038, 0.1607,  ..., 0.1249, 0.1370, 0.1435])"
            ]
          },
          "metadata": {
            "tags": []
          }
        },
        {
          "output_type": "display_data",
          "data": {
            "text/plain": [
              "tensor([0.1481, 0.1930, 0.1450,  ..., 0.1308, 0.1336, 0.1525])"
            ]
          },
          "metadata": {
            "tags": []
          }
        },
        {
          "output_type": "display_data",
          "data": {
            "text/plain": [
              "tensor([0.1612, 0.1939, 0.1614,  ..., 0.1305, 0.1458, 0.1656])"
            ]
          },
          "metadata": {
            "tags": []
          }
        },
        {
          "output_type": "display_data",
          "data": {
            "text/plain": [
              "tensor([0.1501, 0.1984, 0.1541,  ..., 0.1339, 0.1280, 0.1585])"
            ]
          },
          "metadata": {
            "tags": []
          }
        },
        {
          "output_type": "display_data",
          "data": {
            "text/plain": [
              "tensor([0.1197, 0.1959, 0.1252,  ..., 0.1110, 0.1156, 0.1399])"
            ]
          },
          "metadata": {
            "tags": []
          }
        },
        {
          "output_type": "display_data",
          "data": {
            "text/plain": [
              "tensor([0.1483, 0.1949, 0.1511,  ..., 0.1262, 0.1202, 0.1497])"
            ]
          },
          "metadata": {
            "tags": []
          }
        }
      ]
    },
    {
      "cell_type": "markdown",
      "metadata": {
        "id": "KbYXojz7Pvn_"
      },
      "source": [
        "Let's see how are can compute all the distances from one image tensor batch to each of the digit means in a few operations only. \n",
        "\n",
        "1. Let's see what we have to start with:\n",
        "    - we start from a batch of image tensors `image_tensor_batch` of shape `(nbr_img, 28, 28)`\n",
        "    - `mnist_distance(image_tensor_batch)` returns a tensor of shape `(nbr_img)`"
      ]
    },
    {
      "cell_type": "code",
      "metadata": {
        "colab": {
          "base_uri": "https://localhost:8080/"
        },
        "id": "1fwOHGVDQ4WI",
        "outputId": "27a90ccf-6757-4514-cb6c-cd6698852f8e"
      },
      "source": [
        "img_batch_tnsr = stacked_tensors_dict[8]\n",
        "print('Shape of batch_tnsr:', img_batch_tnsr.shape)\n",
        "\n",
        "distances = mnist_distance(img_tnsr, means_dict[0])\n",
        "print('Shape of distances: ', distances.shape)"
      ],
      "execution_count": null,
      "outputs": [
        {
          "output_type": "stream",
          "text": [
            "Shape of batch_tnsr: torch.Size([5851, 28, 28])\n",
            "Shape of distances:  torch.Size([5851])\n"
          ],
          "name": "stdout"
        }
      ]
    },
    {
      "cell_type": "markdown",
      "metadata": {
        "id": "w3UXMvExSBJB"
      },
      "source": [
        "2. Now we want to have all distances for all digits in a dimension-2 tensor of shape `(nbr of images, 10)`. "
      ]
    },
    {
      "cell_type": "code",
      "metadata": {
        "colab": {
          "base_uri": "https://localhost:8080/",
          "height": 156
        },
        "id": "9KvjgyhRMlp_",
        "outputId": "8c397d4e-c214-44ae-9172-6599e751139b"
      },
      "source": [
        "distances = torch.stack([mnist_distance(img_tnsr, m) for m in means_dict.values()], dim=1)\n",
        "display(distances)\n",
        "distances.shape"
      ],
      "execution_count": null,
      "outputs": [
        {
          "output_type": "display_data",
          "data": {
            "text/plain": [
              "tensor([[0.1795, 0.1039, 0.1480,  ..., 0.1501, 0.1197, 0.1483],\n",
              "        [0.2126, 0.2042, 0.2038,  ..., 0.1984, 0.1959, 0.1949],\n",
              "        [0.1797, 0.0930, 0.1472,  ..., 0.1541, 0.1252, 0.1511],\n",
              "        ...,\n",
              "        [0.1697, 0.1016, 0.1283,  ..., 0.1339, 0.1110, 0.1262],\n",
              "        [0.1837, 0.0990, 0.1469,  ..., 0.1280, 0.1156, 0.1202],\n",
              "        [0.1942, 0.1375, 0.1563,  ..., 0.1585, 0.1399, 0.1497]])"
            ]
          },
          "metadata": {
            "tags": []
          }
        },
        {
          "output_type": "execute_result",
          "data": {
            "text/plain": [
              "torch.Size([5851, 10])"
            ]
          },
          "metadata": {
            "tags": []
          },
          "execution_count": 27
        }
      ]
    },
    {
      "cell_type": "markdown",
      "metadata": {
        "id": "MSxvds2rVZyB"
      },
      "source": [
        "\"decrypting\" code above: `torch.stack([mnist_distance(img_tnsr, m) for m in means_dict.values()], dim=1)`\n",
        "- Signature of stack: `torch.stack(tensors, dim=0)` [doc](https://pytorch.org/docs/stable/generated/torch.stack.html):\n",
        "    - `tensors` is a sequence of tensors to concatenate, for instance a list of tensors\n",
        "    - `dim` is the dimension to insert. Has to be between 0 and the number of dimensions of concatenated, In our case, `dim` is 1 as we want to stack the 10 values for each images. You can try other values and see what it gives.\n",
        "- `[mnist_distance(img_tnsr, m) for m in means_dict.values()]`:\n",
        "    - list comprehension to get a list of the 10 distances, one for each digit. Remember that means_dict keeps the ten mean images reporesenting the \"ideal\" difit. The list comprehension is equivalent to:\n",
        "    ```python\n",
        "        tensor_list = []\n",
        "        for mean in means_dict.values():\n",
        "            tensor_list.append(mnist_distance(img_tnsr, m))\n",
        "    ```\n",
        "\n",
        "The code is passing a list of 10 dimension-1 tensors (shape = `(number of images in the batch)`) to `torch.stack`, to create a dimension-2 tensor of shape `(number of images in the batch, 10)`"
      ]
    },
    {
      "cell_type": "markdown",
      "metadata": {
        "id": "8uWfanTIVsdJ"
      },
      "source": [
        "Now we have a tensor `distances` with the distance of each image to the ten means. We can index it to get the distances of any image to the ten means."
      ]
    },
    {
      "cell_type": "code",
      "metadata": {
        "colab": {
          "base_uri": "https://localhost:8080/"
        },
        "id": "wS5chZmwVxOo",
        "outputId": "08ca3723-0f9a-4205-e0cb-ff13ddaeb967"
      },
      "source": [
        "distances[120:125, :]"
      ],
      "execution_count": null,
      "outputs": [
        {
          "output_type": "execute_result",
          "data": {
            "text/plain": [
              "tensor([[0.1680, 0.1831, 0.1666, 0.1545, 0.1572, 0.1537, 0.1583, 0.1848, 0.1462, 0.1656],\n",
              "        [0.1888, 0.1888, 0.1770, 0.1895, 0.1614, 0.1828, 0.1675, 0.1957, 0.1638, 0.1754],\n",
              "        [0.1686, 0.1799, 0.1772, 0.1616, 0.1734, 0.1523, 0.1580, 0.1956, 0.1547, 0.1768],\n",
              "        [0.1796, 0.1059, 0.1646, 0.1448, 0.1495, 0.1309, 0.1498, 0.1442, 0.1367, 0.1318],\n",
              "        [0.1684, 0.1696, 0.1688, 0.1595, 0.1498, 0.1495, 0.1552, 0.1718, 0.1316, 0.1451]])"
            ]
          },
          "metadata": {
            "tags": []
          },
          "execution_count": 29
        }
      ]
    },
    {
      "cell_type": "markdown",
      "metadata": {
        "id": "SnP8007KXcMA"
      },
      "source": [
        "3. Select the class/digit for each image in the batch: pick the minimum distance. We will use the method tensor `argmin()` to pick the index with minimum distance, which is the digit corresponding to the minumum distance and therefore our class as we defined it in our approach.\n",
        "\n",
        "> See how `argmin` works with a single image. We pick one image tensor and show it. We also pick the corresponding distances to the ten digit, i.e. a tensor of shape (10). `argmin()` returns the index of the minimum distance, in this case 8, which corresponds to digit 8."
      ]
    },
    {
      "cell_type": "code",
      "metadata": {
        "colab": {
          "base_uri": "https://localhost:8080/",
          "height": 120
        },
        "id": "PVB0WQHLYlk2",
        "outputId": "73ae5853-5ee6-4bce-94cc-c4c957b5a381"
      },
      "source": [
        "img_nbr = 25\n",
        "show_image(stacked_tensors_dict[8][img_nbr])\n",
        "plt.show()\n",
        "\n",
        "distances_for_one_img = distances[img_nbr]\n",
        "display(distances_for_one_img)\n",
        "distances_for_one_img.argmin()\n",
        "distances_for_one_img[8]"
      ],
      "execution_count": null,
      "outputs": [
        {
          "output_type": "display_data",
          "data": {
            "image/png": "[encoded data removed]",
            "text/plain": [
              "<Figure size 72x72 with 1 Axes>"
            ]
          },
          "metadata": {
            "tags": [],
            "needs_background": "light"
          }
        },
        {
          "output_type": "display_data",
          "data": {
            "text/plain": [
              "tensor([0.1650, 0.1222, 0.1467, 0.1261, 0.1344, 0.1259, 0.1477, 0.1398, 0.1143, 0.1293])"
            ]
          },
          "metadata": {
            "tags": []
          }
        },
        {
          "output_type": "execute_result",
          "data": {
            "text/plain": [
              "tensor(0.1143)"
            ]
          },
          "metadata": {
            "tags": []
          },
          "execution_count": 30
        }
      ]
    },
    {
      "cell_type": "markdown",
      "metadata": {
        "id": "yKEouuQ1agEO"
      },
      "source": [
        "When we apply to a batch of images, we need to tell pytorch along which direction the minimum must be seeked. In our case `dim=1`.  It returns a tensor of dimension 1, with shape = `(nbr_img)`"
      ]
    },
    {
      "cell_type": "code",
      "metadata": {
        "colab": {
          "base_uri": "https://localhost:8080/"
        },
        "id": "TGU_rT7JOibR",
        "outputId": "f0d2452d-00e1-4274-906a-27ef5178fb54"
      },
      "source": [
        "digits = distances.argmin(dim=1)\n",
        "digits.shape"
      ],
      "execution_count": null,
      "outputs": [
        {
          "output_type": "execute_result",
          "data": {
            "text/plain": [
              "torch.Size([5851])"
            ]
          },
          "metadata": {
            "tags": []
          },
          "execution_count": 31
        }
      ]
    },
    {
      "cell_type": "markdown",
      "metadata": {
        "id": "-O79XYgwjmlx"
      },
      "source": [
        "```\n",
        "argmin(input, dim, keepdim=False) -> LongTensor\n",
        "\n",
        "Returns the indices of the minimum values of a tensor across a dimension.\n",
        "\n",
        "This is the second value returned by :meth:`torch.min`. See its\n",
        "documentation for the exact semantics of this method.\n",
        "\n",
        "Args:\n",
        "    input (Tensor): the input tensor.\n",
        "    dim (int): the dimension to reduce. If ``None``, the argmin of the flattened input is returned.\n",
        "    keepdim (bool): whether the output tensor has :attr:`dim` retained or not. Ignored if ``dim=None``.\n",
        "```"
      ]
    },
    {
      "cell_type": "markdown",
      "metadata": {
        "id": "EVrnf9mra5xt"
      },
      "source": [
        "Using `argmin()` allows us to compute the mimimun for all images, in one step, and with no Python loop."
      ]
    },
    {
      "cell_type": "markdown",
      "metadata": {
        "id": "LLsY0kBWj1me"
      },
      "source": [
        "### Pixel Similarity Classifier"
      ]
    },
    {
      "cell_type": "markdown",
      "metadata": {
        "id": "zc4xy7bbX8Ad"
      },
      "source": [
        "Now we can build our classifier as a function `evaluate_digit` to which we pass an image tensor or a batch of image tensors and which will return a class/digit"
      ]
    },
    {
      "cell_type": "code",
      "metadata": {
        "id": "yP_X__waAo_a"
      },
      "source": [
        "def evaluate_digit(x): \n",
        "    if x.ndim < 3:\n",
        "        x = x.unsqueeze(dim=0)\n",
        "    distances = torch.stack([mnist_distance(x, m) for m in means_dict.values()], dim=1)\n",
        "    return distances.argmin(dim=1)"
      ],
      "execution_count": null,
      "outputs": []
    },
    {
      "cell_type": "markdown",
      "metadata": {
        "id": "jr2RPxqlbYLF"
      },
      "source": [
        ">Note: we unsqueeze the tensor when a single image is given instead of a batch, because we expect a batch. Unsqueezing is like translforming a single image into a batch with a single image:\n",
        "```python\n",
        "    if x.ndim < 3:\n",
        "        x = x.unsqueeze(dim=0)\n",
        "```\n",
        "\n",
        "See the difference below"
      ]
    },
    {
      "cell_type": "code",
      "metadata": {
        "colab": {
          "base_uri": "https://localhost:8080/"
        },
        "id": "jWWpkaZlbuF5",
        "outputId": "61293e4b-dc9b-4554-9255-0fcc5c44d767"
      },
      "source": [
        "img.shape, img.unsqueeze(dim=0).shape"
      ],
      "execution_count": null,
      "outputs": [
        {
          "output_type": "execute_result",
          "data": {
            "text/plain": [
              "(torch.Size([28, 28]), torch.Size([1, 28, 28]))"
            ]
          },
          "metadata": {
            "tags": []
          },
          "execution_count": 34
        }
      ]
    },
    {
      "cell_type": "markdown",
      "metadata": {
        "id": "CLmCNNLXcFFO"
      },
      "source": [
        "Let's test our classifier with a single image:"
      ]
    },
    {
      "cell_type": "code",
      "metadata": {
        "colab": {
          "base_uri": "https://localhost:8080/",
          "height": 103
        },
        "id": "vCTbUcKLYVRD",
        "outputId": "9e90ada2-7ff3-40a9-c13e-c63d01086104"
      },
      "source": [
        "tnsr = stacked_tensors_dict[8][58]\n",
        "show_image(tnsr)\n",
        "plt.show()\n",
        "\n",
        "evaluate_digit(tnsr)"
      ],
      "execution_count": null,
      "outputs": [
        {
          "output_type": "display_data",
          "data": {
            "image/png": "[encoded data removed]",
            "text/plain": [
              "<Figure size 72x72 with 1 Axes>"
            ]
          },
          "metadata": {
            "tags": [],
            "needs_background": "light"
          }
        },
        {
          "output_type": "execute_result",
          "data": {
            "text/plain": [
              "tensor([8])"
            ]
          },
          "metadata": {
            "tags": []
          },
          "execution_count": 35
        }
      ]
    },
    {
      "cell_type": "markdown",
      "metadata": {
        "id": "p4JMkpShcWat"
      },
      "source": [
        "Let's test our classifier with a small image batch:"
      ]
    },
    {
      "cell_type": "code",
      "metadata": {
        "colab": {
          "base_uri": "https://localhost:8080/"
        },
        "id": "R222MSdca9UA",
        "outputId": "7b6f50cb-ab2f-4aad-c683-96945871d4f0"
      },
      "source": [
        "tnsr = stacked_tensors_dict[8][58:87]\n",
        "print('Nbr images: ', tnsr.shape[0])\n",
        "\n",
        "evaluate_digit(tnsr)"
      ],
      "execution_count": null,
      "outputs": [
        {
          "output_type": "stream",
          "text": [
            "Nbr images:  29\n"
          ],
          "name": "stdout"
        },
        {
          "output_type": "execute_result",
          "data": {
            "text/plain": [
              "tensor([8, 8, 1, 1, 9, 1, 8, 9, 1, 8, 1, 1, 8, 8, 1, 9, 9, 9, 1, 8, 3, 8, 1, 1, 8, 1, 8, 1, 8])"
            ]
          },
          "metadata": {
            "tags": []
          },
          "execution_count": 36
        }
      ]
    },
    {
      "cell_type": "markdown",
      "metadata": {
        "id": "kJUtTINZbs_q"
      },
      "source": [
        "We can see that the model is not that great ! Some images are correctly evaluated and some are not."
      ]
    },
    {
      "cell_type": "markdown",
      "metadata": {
        "id": "_a0JkHtpbV4h"
      },
      "source": [
        "### Evaluation of the classifier\n",
        "Let's compute the accuracy for the train and the validation set for each class/digit\n",
        "1. For each class, we evaluate the digit for the full dataset (training and validation)\n",
        "2. We compute how many are correct and how many are not correct"
      ]
    },
    {
      "cell_type": "code",
      "metadata": {
        "colab": {
          "base_uri": "https://localhost:8080/"
        },
        "id": "zdkODv0fcGOa",
        "outputId": "2a75c9a1-1437-47a0-999b-cdbcc694103d"
      },
      "source": [
        "# One class at the time\n",
        "digit = 5\n",
        "tnsr = stacked_tensors_dict[digit]\n",
        "preds = evaluate_digit(tnsr) \n",
        "correct = torch.eq(preds, digit).sum()\n",
        "incorrect = torch.ne(preds, digit).sum()\n",
        "correct.item(), incorrect.item(), (correct / preds.shape[0]).item()"
      ],
      "execution_count": null,
      "outputs": [
        {
          "output_type": "execute_result",
          "data": {
            "text/plain": [
              "(1627, 3794, 0.30012911558151245)"
            ]
          },
          "metadata": {
            "tags": []
          },
          "execution_count": 37
        }
      ]
    },
    {
      "cell_type": "code",
      "metadata": {
        "id": "Zm5e38QUAo_b",
        "colab": {
          "base_uri": "https://localhost:8080/"
        },
        "outputId": "08504c85-3098-4bfb-900e-01ab443a1ae0"
      },
      "source": [
        "# All digits for training set\n",
        "for digit in range(10):\n",
        "    tnsr = stacked_tensors_dict[digit]\n",
        "    preds = evaluate_digit(tnsr) \n",
        "    correct = torch.eq(preds, digit).sum()\n",
        "    # print(f\" - {correct.item():,d} correct digits out or {preds.shape[0]}\")\n",
        "    print(f\"Accuracy for {digit}: {(correct / preds.shape[0]).item():1.4f}\")"
      ],
      "execution_count": null,
      "outputs": [
        {
          "output_type": "stream",
          "text": [
            "Accuracy for 0: 0.8141\n",
            "Accuracy for 1: 0.9981\n",
            "Accuracy for 2: 0.4329\n",
            "Accuracy for 3: 0.5836\n",
            "Accuracy for 4: 0.6648\n",
            "Accuracy for 5: 0.3001\n",
            "Accuracy for 6: 0.7454\n",
            "Accuracy for 7: 0.7778\n",
            "Accuracy for 8: 0.3958\n",
            "Accuracy for 9: 0.7163\n"
          ],
          "name": "stdout"
        }
      ]
    },
    {
      "cell_type": "code",
      "metadata": {
        "colab": {
          "base_uri": "https://localhost:8080/"
        },
        "id": "IR9gSAyWgDRb",
        "outputId": "2acad481-b5b9-40eb-8971-044288678b58"
      },
      "source": [
        "# All digits for validation set\n",
        "for digit in range(10):\n",
        "    tnsr = valid_tensors_dict[digit]\n",
        "    preds = evaluate_digit(tnsr) \n",
        "    correct = torch.eq(preds, digit).sum()\n",
        "    # print(f\" - {correct.item():,d} correct digits out or {preds.shape[0]}\")\n",
        "    print(f\"Accuracy for {digit}: {(correct / preds.shape[0]).item():1.4f}\")"
      ],
      "execution_count": null,
      "outputs": [
        {
          "output_type": "stream",
          "text": [
            "Accuracy for 0: 0.8153\n",
            "Accuracy for 1: 0.9982\n",
            "Accuracy for 2: 0.4234\n",
            "Accuracy for 3: 0.6089\n",
            "Accuracy for 4: 0.6680\n",
            "Accuracy for 5: 0.3262\n",
            "Accuracy for 6: 0.7871\n",
            "Accuracy for 7: 0.7646\n",
            "Accuracy for 8: 0.4425\n",
            "Accuracy for 9: 0.7760\n"
          ],
          "name": "stdout"
        }
      ]
    },
    {
      "cell_type": "markdown",
      "metadata": {
        "id": "-Wl3rqr3Ao_c"
      },
      "source": [
        "Although this is not awfull, the performance varies a lot for each of the digit. 0 and 1 are well classified byt 5 and 8 are not, for example.\n",
        "\n",
        "Can we do better if we use another metric? We uses MAE, let's do the same but using RMSE:"
      ]
    },
    {
      "cell_type": "code",
      "metadata": {
        "id": "zSqPZmeYLCqC"
      },
      "source": [
        "# Define a new loss/distance function: mnist_rmse\n",
        "def mnist_rmse(a, b):\n",
        "    return ((a - b) ** 2 ).mean((-1, -2)).sqrt()\n",
        "\n",
        "# Our new classifier will use rmse to compute the distances and pick the minimum\n",
        "def evaluate_digit_rmse(x): \n",
        "    if x.ndim < 3:\n",
        "        x = x.unsqueeze(dim=0)\n",
        "    distances = torch.stack([mnist_rmse(x, m) for m in means_dict.values()], dim=1)\n",
        "    return distances.argmin(dim=1)"
      ],
      "execution_count": null,
      "outputs": []
    },
    {
      "cell_type": "markdown",
      "metadata": {
        "id": "zZ--Vx6wNEp5"
      },
      "source": [
        "Now we can evaluate the performance of this new classifer with the validation set"
      ]
    },
    {
      "cell_type": "code",
      "metadata": {
        "colab": {
          "base_uri": "https://localhost:8080/"
        },
        "id": "ZxAezLXGMTix",
        "outputId": "337e535f-f998-4234-f614-a60e5d3c4c33"
      },
      "source": [
        "# All digits for validation set\n",
        "for digit in range(10):\n",
        "    tnsr = valid_tensors_dict[digit]\n",
        "    preds = evaluate_digit_rmse(tnsr) \n",
        "    correct = torch.eq(preds, digit).sum()\n",
        "    # print(f\" - {correct.item():,d} correct digits out or {preds.shape[0]}\")\n",
        "    print(f\"Accuracy for {digit}: {(correct / preds.shape[0]).item():1.4f}\")"
      ],
      "execution_count": null,
      "outputs": [
        {
          "output_type": "stream",
          "text": [
            "Accuracy for 0: 0.8959\n",
            "Accuracy for 1: 0.9621\n",
            "Accuracy for 2: 0.7568\n",
            "Accuracy for 3: 0.8059\n",
            "Accuracy for 4: 0.8259\n",
            "Accuracy for 5: 0.6861\n",
            "Accuracy for 6: 0.8633\n",
            "Accuracy for 7: 0.8327\n",
            "Accuracy for 8: 0.7372\n",
            "Accuracy for 9: 0.8067\n"
          ],
          "name": "stdout"
        }
      ]
    },
    {
      "cell_type": "markdown",
      "metadata": {
        "id": "tCc7STRUNQz3"
      },
      "source": [
        "We see that the accuracy increases for almost all the digits. \n",
        "\n",
        "The base line is not bad, but all in all, it still shows some relativaly low accuracy compared to real model."
      ]
    },
    {
      "cell_type": "markdown",
      "metadata": {
        "id": "0VpRly6QAo_c"
      },
      "source": [
        "## Stochastic Gradient Descent (SGD)"
      ]
    },
    {
      "cell_type": "code",
      "metadata": {
        "colab": {
          "base_uri": "https://localhost:8080/",
          "height": 145
        },
        "id": "OzVuXe_E-GtE",
        "outputId": "b85abb33-2086-449b-9336-7aa39159ba56"
      },
      "source": [
        "gv('''\n",
        "\"1. init\"->\"2. predict\"->\"3. loss\"->\"4. gradient\"->\"5. step\"->\"7. stop\"\n",
        "\"5. step\"->\"2. predict\"[label=\"6. repeat\"]\n",
        "''')"
      ],
      "execution_count": null,
      "outputs": [
        {
          "output_type": "execute_result",
          "data": {
            "text/plain": [
              "<graphviz.files.Source at 0x7f8cf1763910>"
            ],
            "image/svg+xml": "<?xml version=\"1.0\" encoding=\"UTF-8\" standalone=\"no\"?>\n<!DOCTYPE svg PUBLIC \"-//W3C//DTD SVG 1.1//EN\"\n \"http://www.w3.org/Graphics/SVG/1.1/DTD/svg11.dtd\">\n<!-- Generated by graphviz version 2.40.1 (20161225.0304)\n -->\n<!-- Title: G Pages: 1 -->\n<svg width=\"712pt\" height=\"78pt\"\n viewBox=\"0.00 0.00 711.56 78.00\" xmlns=\"http://www.w3.org/2000/svg\" xmlns:xlink=\"http://www.w3.org/1999/xlink\">\n<g id=\"graph0\" class=\"graph\" transform=\"scale(1 1) rotate(0) translate(4 74)\">\n<title>G</title>\n<polygon fill=\"#ffffff\" stroke=\"transparent\" points=\"-4,4 -4,-74 707.5582,-74 707.5582,4 -4,4\"/>\n<!-- 1. init -->\n<g id=\"node1\" class=\"node\">\n<title>1. init</title>\n<ellipse fill=\"none\" stroke=\"#000000\" cx=\"32.4971\" cy=\"-18\" rx=\"32.4942\" ry=\"18\"/>\n<text text-anchor=\"middle\" x=\"32.4971\" y=\"-14.3\" font-family=\"Times,serif\" font-size=\"14.00\" fill=\"#000000\">1. init</text>\n</g>\n<!-- 2. predict -->\n<g id=\"node2\" class=\"node\">\n<title>2. predict</title>\n<ellipse fill=\"none\" stroke=\"#000000\" cx=\"148.1401\" cy=\"-18\" rx=\"46.2923\" ry=\"18\"/>\n<text text-anchor=\"middle\" x=\"148.1401\" y=\"-14.3\" font-family=\"Times,serif\" font-size=\"14.00\" fill=\"#000000\">2. predict</text>\n</g>\n<!-- 1. init&#45;&gt;2. predict -->\n<g id=\"edge1\" class=\"edge\">\n<title>1. init&#45;&gt;2. predict</title>\n<path fill=\"none\" stroke=\"#000000\" d=\"M65.0179,-18C73.2694,-18 82.3772,-18 91.4479,-18\"/>\n<polygon fill=\"#000000\" stroke=\"#000000\" points=\"91.6257,-21.5001 101.6257,-18 91.6257,-14.5001 91.6257,-21.5001\"/>\n</g>\n<!-- 3. loss -->\n<g id=\"node3\" class=\"node\">\n<title>3. loss</title>\n<ellipse fill=\"none\" stroke=\"#000000\" cx=\"265.733\" cy=\"-52\" rx=\"34.394\" ry=\"18\"/>\n<text text-anchor=\"middle\" x=\"265.733\" y=\"-48.3\" font-family=\"Times,serif\" font-size=\"14.00\" fill=\"#000000\">3. loss</text>\n</g>\n<!-- 2. predict&#45;&gt;3. loss -->\n<g id=\"edge2\" class=\"edge\">\n<title>2. predict&#45;&gt;3. loss</title>\n<path fill=\"none\" stroke=\"#000000\" d=\"M185.3473,-28.7578C198.2159,-32.4786 212.6869,-36.6626 225.7676,-40.4447\"/>\n<polygon fill=\"#000000\" stroke=\"#000000\" points=\"224.8712,-43.8288 235.4499,-43.2442 226.8156,-37.1042 224.8712,-43.8288\"/>\n</g>\n<!-- 4. gradient -->\n<g id=\"node4\" class=\"node\">\n<title>4. gradient</title>\n<ellipse fill=\"none\" stroke=\"#000000\" cx=\"435.8754\" cy=\"-52\" rx=\"50.8918\" ry=\"18\"/>\n<text text-anchor=\"middle\" x=\"435.8754\" y=\"-48.3\" font-family=\"Times,serif\" font-size=\"14.00\" fill=\"#000000\">4. gradient</text>\n</g>\n<!-- 3. loss&#45;&gt;4. gradient -->\n<g id=\"edge3\" class=\"edge\">\n<title>3. loss&#45;&gt;4. gradient</title>\n<path fill=\"none\" stroke=\"#000000\" d=\"M300.5744,-52C321.9366,-52 349.8822,-52 374.8263,-52\"/>\n<polygon fill=\"#000000\" stroke=\"#000000\" points=\"374.9406,-55.5001 384.9406,-52 374.9405,-48.5001 374.9406,-55.5001\"/>\n</g>\n<!-- 5. step -->\n<g id=\"node5\" class=\"node\">\n<title>5. step</title>\n<ellipse fill=\"none\" stroke=\"#000000\" cx=\"558.6678\" cy=\"-18\" rx=\"35.194\" ry=\"18\"/>\n<text text-anchor=\"middle\" x=\"558.6678\" y=\"-14.3\" font-family=\"Times,serif\" font-size=\"14.00\" fill=\"#000000\">5. step</text>\n</g>\n<!-- 4. gradient&#45;&gt;5. step -->\n<g id=\"edge4\" class=\"edge\">\n<title>4. gradient&#45;&gt;5. step</title>\n<path fill=\"none\" stroke=\"#000000\" d=\"M476.0823,-40.8671C489.4591,-37.1632 504.3655,-33.0358 517.7924,-29.318\"/>\n<polygon fill=\"#000000\" stroke=\"#000000\" points=\"519.0184,-32.6103 527.7218,-26.5687 517.1504,-25.8641 519.0184,-32.6103\"/>\n</g>\n<!-- 5. step&#45;&gt;2. predict -->\n<g id=\"edge6\" class=\"edge\">\n<title>5. step&#45;&gt;2. predict</title>\n<path fill=\"none\" stroke=\"#000000\" d=\"M523.5577,-18C452.405,-18 290.668,-18 204.5509,-18\"/>\n<polygon fill=\"#000000\" stroke=\"#000000\" points=\"204.4349,-14.5001 194.4349,-18 204.4348,-21.5001 204.4349,-14.5001\"/>\n<text text-anchor=\"middle\" x=\"342.6799\" y=\"-21.8\" font-family=\"Times,serif\" font-size=\"14.00\" fill=\"#000000\">6. repeat</text>\n</g>\n<!-- 7. stop -->\n<g id=\"node6\" class=\"node\">\n<title>7. stop</title>\n<ellipse fill=\"none\" stroke=\"#000000\" cx=\"667.1615\" cy=\"-18\" rx=\"36.2938\" ry=\"18\"/>\n<text text-anchor=\"middle\" x=\"667.1615\" y=\"-14.3\" font-family=\"Times,serif\" font-size=\"14.00\" fill=\"#000000\">7. stop</text>\n</g>\n<!-- 5. step&#45;&gt;7. stop -->\n<g id=\"edge5\" class=\"edge\">\n<title>5. step&#45;&gt;7. stop</title>\n<path fill=\"none\" stroke=\"#000000\" d=\"M593.8926,-18C602.3423,-18 611.4969,-18 620.3794,-18\"/>\n<polygon fill=\"#000000\" stroke=\"#000000\" points=\"620.6231,-21.5001 630.6231,-18 620.623,-14.5001 620.6231,-21.5001\"/>\n</g>\n</g>\n</svg>\n"
          },
          "metadata": {
            "tags": []
          },
          "execution_count": 42
        }
      ]
    },
    {
      "cell_type": "markdown",
      "metadata": {
        "id": "kAlUoNRzOafQ"
      },
      "source": [
        "Steps that we are going to require, to turn a function into a machine learning classifier:\n",
        "\n",
        "1. *Initialize* the weights.\n",
        "1. For each image, use these weights to *predict* whether it appears to be a 3 or a 7.\n",
        "1. Based on these predictions, calculate how good the model is (its *loss*).\n",
        "1. Calculate the *gradient*, which measures for each weight, how changing that weight would change the loss\n",
        "1. *Step* (that is, change) all the weights based on that calculation.\n",
        "1. Go back to the step 2, and *repeat* the process.\n",
        "1. Iterate until you decide to *stop* the training process (for instance, because the model is good enough or you don't want to wait any longer)."
      ]
    },
    {
      "cell_type": "markdown",
      "metadata": {
        "id": "e75BvXjsQW2X"
      },
      "source": [
        "#### Prepare datasets and dataloaders"
      ]
    },
    {
      "cell_type": "markdown",
      "metadata": {
        "id": "9bxXKzVvQ952"
      },
      "source": [
        "`train_x` is the set of independant variables (inputs), that is our images. We create  `train_x` tensor by concatenating all the tensors for each digit."
      ]
    },
    {
      "cell_type": "code",
      "metadata": {
        "id": "7eVXaIMnQ954"
      },
      "source": [
        "train_x = torch.cat([stacked_tensors_dict[i] for i in range(0,10)]).view(-1, 28*28)"
      ],
      "execution_count": null,
      "outputs": []
    },
    {
      "cell_type": "code",
      "metadata": {
        "colab": {
          "base_uri": "https://localhost:8080/"
        },
        "id": "kENaWxHARETG",
        "outputId": "b5b6a6d2-7990-4f8f-e2dd-bca11b11349d"
      },
      "source": [
        "train_x.shape"
      ],
      "execution_count": null,
      "outputs": [
        {
          "output_type": "execute_result",
          "data": {
            "text/plain": [
              "torch.Size([60000, 784])"
            ]
          },
          "metadata": {
            "tags": []
          },
          "execution_count": 44
        }
      ]
    },
    {
      "cell_type": "markdown",
      "metadata": {
        "id": "AbuZLyURQ955"
      },
      "source": [
        "As expected, it is a set of 60,000 images represented as a flat one dimension vector of shape 28 x 28 = 784"
      ]
    },
    {
      "cell_type": "markdown",
      "metadata": {
        "id": "8U3evtmMQ957"
      },
      "source": [
        "We need a label for each image, 0 to 9, depending on the digit the image represent. It is not as simple as for the basic MNIST case, as we have more than two classes and the number of images in each class is not equal. There is probably an easier way than the one below !"
      ]
    },
    {
      "cell_type": "code",
      "metadata": {
        "id": "IImhF4RwQ958"
      },
      "source": [
        "# Returns a list of 10 sublists, where each sublist consists of as many times digit as the number of image in the category\n",
        "l = [ [i] * stacked_tensors_dict[i].shape[0] for i in range(0,10)]\n",
        "\n",
        "# check the the total number of labels is equal to the numer of images\n",
        "assert sum([len(sublist) for sublist in l]) == train_x.shape[0] "
      ],
      "execution_count": null,
      "outputs": []
    },
    {
      "cell_type": "code",
      "metadata": {
        "colab": {
          "base_uri": "https://localhost:8080/"
        },
        "id": "_CgSzj67Q959",
        "outputId": "d43abb46-7134-4aaf-dd06-2e6d71f5c00b"
      },
      "source": [
        "# Create a tensor based on the list of labels\n",
        "label_list = []\n",
        "for i in range(10):\n",
        "    label_list.extend(l[i])\n",
        "assert len(label_list) == train_x.shape[0]\n",
        "\n",
        "train_y = torch.tensor(label_list).unsqueeze(1)\n",
        "train_x.shape,train_y.shape"
      ],
      "execution_count": null,
      "outputs": [
        {
          "output_type": "execute_result",
          "data": {
            "text/plain": [
              "(torch.Size([60000, 784]), torch.Size([60000, 1]))"
            ]
          },
          "metadata": {
            "tags": []
          },
          "execution_count": 47
        }
      ]
    },
    {
      "cell_type": "markdown",
      "metadata": {
        "id": "JVwaZsHSRrnS"
      },
      "source": [
        "The shapes of `train_x` and `train_y` are as expected"
      ]
    },
    {
      "cell_type": "markdown",
      "metadata": {
        "id": "67Prd18yQ95_"
      },
      "source": [
        "A `Dataset` in PyTorch is required to return a tuple of `(x,y)` when indexed. Python provides a `zip` function which, when combined with `list`, provides a simple way to get this functionality:"
      ]
    },
    {
      "cell_type": "code",
      "metadata": {
        "colab": {
          "base_uri": "https://localhost:8080/"
        },
        "id": "hnmy7VORQ96A",
        "outputId": "b0a2367e-89cd-4697-9b5b-5111aa6182f1"
      },
      "source": [
        "from random import shuffle\n",
        "\n",
        "dset = list(zip(train_x,train_y))\n",
        "\n",
        "# Shuffle the dset so that digits are mixed\n",
        "shuffle(dset)\n",
        "\n",
        "\n",
        "x, y = dset[0]\n",
        "x.shape,y"
      ],
      "execution_count": null,
      "outputs": [
        {
          "output_type": "execute_result",
          "data": {
            "text/plain": [
              "(torch.Size([784]), tensor([5]))"
            ]
          },
          "metadata": {
            "tags": []
          },
          "execution_count": 48
        }
      ]
    },
    {
      "cell_type": "markdown",
      "metadata": {
        "id": "bgyrNSXsBcyH"
      },
      "source": [
        "Now we do the same for the validation sets"
      ]
    },
    {
      "cell_type": "code",
      "metadata": {
        "colab": {
          "base_uri": "https://localhost:8080/"
        },
        "id": "QJmLpADmQ96A",
        "outputId": "8cfef5a7-5dee-46fc-a5c9-4b5a88a87ba6"
      },
      "source": [
        "valid_x = torch.cat([valid_tensors_dict[i] for i in range(0,10)]).view(-1, 28*28)\n",
        "\n",
        "# Returns a list of 10 sublists, where each sublist consists of a as many times digit as the number of image in the category\n",
        "l = [ [i] * valid_tensors_dict[i].shape[0] for i in range(0,10)]\n",
        "\n",
        "# check the the total number of labels is equal to the numer of images\n",
        "assert sum([len(sublist) for sublist in l]) == valid_x.shape[0] \n",
        "print(valid_x.shape)\n",
        "\n",
        "# Create a tensor based on the list of labels\n",
        "label_list = []\n",
        "for i in range(10):\n",
        "    label_list.extend(l[i])\n",
        "assert len(label_list) == valid_x.shape[0]\n",
        "\n",
        "valid_y = torch.tensor(label_list).unsqueeze(1)\n",
        "print(valid_y.shape)\n",
        "\n",
        "valid_dset = list(zip(valid_x,valid_y))"
      ],
      "execution_count": null,
      "outputs": [
        {
          "output_type": "stream",
          "text": [
            "torch.Size([10000, 784])\n",
            "torch.Size([10000, 1])\n"
          ],
          "name": "stdout"
        }
      ]
    },
    {
      "cell_type": "markdown",
      "metadata": {
        "id": "Lo1sINyOQ96A"
      },
      "source": [
        "Datasets are ready. Now we prepare the dataloaders to feed the training loop."
      ]
    },
    {
      "cell_type": "code",
      "metadata": {
        "id": "ppJHdq70Yxb2"
      },
      "source": [
        "dl = DataLoader(dset, batch_size=256)\n",
        "valid_dl = DataLoader(valid_dset, batch_size=5)"
      ],
      "execution_count": null,
      "outputs": []
    },
    {
      "cell_type": "markdown",
      "metadata": {
        "id": "hAj5qWL1Ao_k"
      },
      "source": [
        "#### Define the model architecture and parameters"
      ]
    },
    {
      "cell_type": "markdown",
      "metadata": {
        "id": "U3_b3NRtDZFl"
      },
      "source": [
        "Model is defined by creating functions to compute each of the 7 steps listed above"
      ]
    },
    {
      "cell_type": "markdown",
      "metadata": {
        "id": "p--DimUkCqhc"
      },
      "source": [
        "##### Parameters"
      ]
    },
    {
      "cell_type": "markdown",
      "metadata": {
        "id": "zpK6kbbRSOMp"
      },
      "source": [
        "In our model, we need to evaluate the distance from one image (input) to each of the possible classes (0 - 9). So we need to predict 10 values, out of which we will pick the minimum value to predict the correpsonding digit.\n",
        "\n",
        "In effect,**y** in **y=Wx+b** represents the `distances` between the image **x** and each of the digits. **y** is therefore a vector of shape `(10)`. The prediction is computed from an image **x** which is a vector of shape `(784)`. Therefore **W** must be of shape `(784, 10)`. And **b** must be of the same shape as the output, that is shape `(10)`.\n",
        "\n",
        "<img src=\"https://raw.githubusercontent.com/vtecftwy/fastbook/master/images/img_mnist_full_linear_layer.png\" height=\"400px\" />\n"
      ]
    },
    {
      "cell_type": "markdown",
      "metadata": {
        "id": "LzhbtgMGCVJS"
      },
      "source": [
        "Define a function to create random parameters, and then create **W** and **b** with the correct shapes"
      ]
    },
    {
      "cell_type": "code",
      "metadata": {
        "colab": {
          "base_uri": "https://localhost:8080/"
        },
        "id": "Qn2XEth3Qs2X",
        "outputId": "300fc651-2c30-4a3b-a03c-6986d55717e1"
      },
      "source": [
        "def init_params(size, std=1.0): \n",
        "    return (torch.randn(size)*std).requires_grad_()\n",
        "\n",
        "weights = init_params((28*28, 10))\n",
        "bias = init_params(10)\n",
        "\n",
        "weights.shape, bias.shape"
      ],
      "execution_count": null,
      "outputs": [
        {
          "output_type": "execute_result",
          "data": {
            "text/plain": [
              "(torch.Size([784, 10]), torch.Size([10]))"
            ]
          },
          "metadata": {
            "tags": []
          },
          "execution_count": 51
        }
      ]
    },
    {
      "cell_type": "markdown",
      "metadata": {
        "id": "G6Ybt963Ao_l"
      },
      "source": [
        "##### Define functions to calculate the predictions. \n",
        "\n",
        "The output of the linear layer is a distance. If we apply `softmax`, we get a sort of probability (sum of values = 1), which is what we want. Also, we can use `softmax` or `log_sofmax`. But it is useful to use `log_softmax` for several reasons, including the fact that larger errors are more penalized then small errors and the fact that it allows some computation stability in the network (see [here](https://deepdatascience.wordpress.com/2020/02/27/log-softmax-vs-softmax/)). \n",
        "\n",
        "See pytorch documentation: [`softmax`](https://pytorch.org/docs/stable/nn.functional.html?highlight=softmax#softmax) and [`log_softmax`](https://pytorch.org/docs/stable/generated/torch.nn.LogSoftmax.html?highlight=softmax#logsoftmax)\n",
        "\n",
        "Note: **`torch.nn.functional`** can be shorted as **`F`**"
      ]
    },
    {
      "cell_type": "code",
      "metadata": {
        "id": "g_xOqHw_Tioi"
      },
      "source": [
        "def linear(xb):\n",
        "    outputs =  xb @ weights + bias\n",
        "    probs = F.log_softmax(outputs, dim=1)\n",
        "    return probs\n",
        "\n",
        "def evaluate_preds(xb):\n",
        "    probs = linear(xb)\n",
        "    return probs.argmax(dim=1).unsqueeze(dim=1)"
      ],
      "execution_count": null,
      "outputs": []
    },
    {
      "cell_type": "markdown",
      "metadata": {
        "id": "0HHF3tn7Ao_m"
      },
      "source": [
        "##### Define a function to calculate the loss\n",
        "\n",
        "As we have 10 classes, the loss function should be **cross entropy**. In PyTorch, there is a function `cross_entropy` ([`doc`](https://pytorch.org/docs/stable/nn.functional.html#cross-entropy)) and a layer `CrossEntropyLoss`([`doc`](https://pytorch.org/docs/stable/nn.functional.html#cross-entropy)). It happens to be a combination of `log_softmax` ([`doc`](https://pytorch.org/docs/stable/nn.functional.html#log-softmax)), which we have applied already in the linear layer, and `nll_loss` ([`doc`](https://pytorch.org/docs/stable/nn.functional.html#nll-loss)). `nll_loss` stands for *negative log likelihood loss*\n",
        "\n",
        "So, let's apply `nll_loss` to the output of linear layer.\n",
        "\n",
        "More on negative log likelihood loss [here](https://medium.com/deeplearningmadeeasy/negative-log-likelihood-6bd79b55d8b6) and cross entropy [here](https://machinelearningmastery.com/cross-entropy-for-machine-learning/)\n",
        "\n",
        "Other links: \n",
        "- https://glassboxmedicine.com/2019/12/07/connections-log-likelihood-cross-entropy-kl-divergence-logistic-regression-and-neural-networks/\n",
        "- https://gombru.github.io/2018/05/23/cross_entropy_loss/"
      ]
    },
    {
      "cell_type": "code",
      "metadata": {
        "id": "ww5kD8caAo_k"
      },
      "source": [
        "loss_fct = F.nll_loss"
      ],
      "execution_count": null,
      "outputs": []
    },
    {
      "cell_type": "markdown",
      "metadata": {
        "id": "xQLwzJCBAo_n"
      },
      "source": [
        "##### Define a function to calculate the gradients"
      ]
    },
    {
      "cell_type": "code",
      "metadata": {
        "id": "ILZAptP-ZP9O"
      },
      "source": [
        "def calc_grad(xb, yb, model):\n",
        "    preds = model(xb)\n",
        "    loss = loss_fct(preds, yb.squeeze())\n",
        "    # print(loss)\n",
        "    loss.backward()"
      ],
      "execution_count": null,
      "outputs": []
    },
    {
      "cell_type": "code",
      "metadata": {
        "id": "Cv3lJG7cQB1v"
      },
      "source": [
        "# xb, yb = first(dl)\n",
        "# display(xb.shape, yb.shape)\n",
        "# probs = linear(xb)\n",
        "# display(probs.shape)\n",
        "# evaluate_preds(xb)\n",
        "# display(yb)\n",
        "# loss_fct(probs, yb.squeeze())\n",
        "# calc_grad(xb, yb, linear)"
      ],
      "execution_count": null,
      "outputs": []
    },
    {
      "cell_type": "markdown",
      "metadata": {
        "id": "BSi9WAxUAo_q"
      },
      "source": [
        "##### Define a function performing one step/one epoch"
      ]
    },
    {
      "cell_type": "code",
      "metadata": {
        "id": "jImqcs7aZlYp"
      },
      "source": [
        "def train_epoch(model, lr, params):\n",
        "    for xb, yb in dl:\n",
        "        calc_grad(xb, yb, model)\n",
        "        for p in params:\n",
        "            p.data -= p.grad * lr\n",
        "            p.grad.zero_()"
      ],
      "execution_count": null,
      "outputs": []
    },
    {
      "cell_type": "markdown",
      "metadata": {
        "id": "6W7gQ4jEAo_r"
      },
      "source": [
        "##### Define a function to evaluate the validation accurary"
      ]
    },
    {
      "cell_type": "code",
      "metadata": {
        "id": "WsS8le8QD8To"
      },
      "source": [
        "def batch_accuracy(xb, yb):\n",
        "    \"\"\"Determines how many of the predictions are actually correct\"\"\"\n",
        "    accuracy = torch.eq(xb, yb).sum() / xb.shape[0]\n",
        "    return accuracy"
      ],
      "execution_count": null,
      "outputs": []
    },
    {
      "cell_type": "code",
      "metadata": {
        "id": "asUH98GjAj5U"
      },
      "source": [
        "# preds.unsqueeze(dim=1)"
      ],
      "execution_count": null,
      "outputs": []
    },
    {
      "cell_type": "code",
      "metadata": {
        "id": "k887jKBsD8OZ"
      },
      "source": [
        "def validate_epoch(model):\n",
        "    \"\"\"Collects the accuracy from each element in the dataloader and displays it\"\"\"\n",
        "    accs = [batch_accuracy(model(xb), yb) for xb, yb in valid_dl]\n",
        "    return round(torch.stack(accs).mean().item(), 4)"
      ],
      "execution_count": null,
      "outputs": []
    },
    {
      "cell_type": "markdown",
      "metadata": {
        "id": "51Bt7YLMEwR6"
      },
      "source": [
        "#### Bringing it all together and run training loop"
      ]
    },
    {
      "cell_type": "code",
      "metadata": {
        "colab": {
          "base_uri": "https://localhost:8080/"
        },
        "id": "OpengN_UD8HK",
        "outputId": "cc6434a9-2f86-4f23-c083-d4c91beae65e"
      },
      "source": [
        "weights = init_params((28*28, 10))\n",
        "bias = init_params(10)\n",
        "\n",
        "lr = 1\n",
        "params = weights, bias\n",
        "\n",
        "train_epoch(linear, lr, params)\n",
        "\n",
        "train_epoch(linear, lr, params)\n",
        "validate_epoch(evaluate_preds)"
      ],
      "execution_count": null,
      "outputs": [
        {
          "output_type": "execute_result",
          "data": {
            "text/plain": [
              "0.873"
            ]
          },
          "metadata": {
            "tags": []
          },
          "execution_count": 60
        }
      ]
    },
    {
      "cell_type": "markdown",
      "metadata": {
        "id": "nEwfyQIyvaVq"
      },
      "source": [
        "Run 20 epochs and see the accuracy for each epoch"
      ]
    },
    {
      "cell_type": "code",
      "metadata": {
        "id": "nET2H9YQD79j",
        "colab": {
          "base_uri": "https://localhost:8080/"
        },
        "outputId": "7492fcb1-7af1-4351-adfe-8625f8ba5594"
      },
      "source": [
        "n_epochs = 20\n",
        "for i in range(n_epochs):\n",
        "    train_epoch(linear, lr, params)\n",
        "    print(f\"{i}:{validate_epoch(evaluate_preds):1.4f}\", end=' ')"
      ],
      "execution_count": null,
      "outputs": [
        {
          "output_type": "stream",
          "text": [
            "0:0.8829 1:0.8866 2:0.8921 3:0.8935 4:0.8966 5:0.8980 6:0.8988 7:0.8995 8:0.9016 9:0.9031 10:0.9047 11:0.9059 12:0.9080 13:0.9090 14:0.9091 15:0.9099 16:0.9105 17:0.9110 18:0.9112 19:0.9112 "
          ],
          "name": "stdout"
        }
      ]
    },
    {
      "cell_type": "markdown",
      "metadata": {
        "id": "ccn3Q175vc0c"
      },
      "source": [
        "Run another 20/200/2000 epochs several times and see the evolution of the accuracy"
      ]
    },
    {
      "cell_type": "code",
      "metadata": {
        "colab": {
          "base_uri": "https://localhost:8080/"
        },
        "id": "UNsiOf5lE01F",
        "outputId": "488b4810-b996-4464-ca9c-6d9139ba274d"
      },
      "source": [
        "n_epochs = 20\n",
        "for i in range(n_epochs):\n",
        "    train_epoch(linear, lr, params)\n",
        "    print(f\"{i}:{validate_epoch(evaluate_preds):1.4f}\", end=' ')"
      ],
      "execution_count": null,
      "outputs": [
        {
          "output_type": "stream",
          "text": [
            "0:0.9118 1:0.9122 2:0.9127 3:0.9133 4:0.9142 5:0.9149 6:0.9150 7:0.9154 8:0.9151 9:0.9155 10:0.9159 11:0.9158 12:0.9163 13:0.9167 14:0.9166 15:0.9168 16:0.9172 17:0.9174 18:0.9175 19:0.9174 "
          ],
          "name": "stdout"
        }
      ]
    },
    {
      "cell_type": "code",
      "metadata": {
        "colab": {
          "base_uri": "https://localhost:8080/"
        },
        "id": "hFy5_mq-FBJi",
        "outputId": "28654b66-835b-44ce-e445-12e3c53fc2d3"
      },
      "source": [
        "n_epochs = 20\n",
        "for i in range(n_epochs):\n",
        "    train_epoch(linear, lr, params)\n",
        "    print(f\"{i}:{validate_epoch(evaluate_preds):1.4f}\", end=' ')"
      ],
      "execution_count": null,
      "outputs": [
        {
          "output_type": "stream",
          "text": [
            "0:0.9177 1:0.9181 2:0.9187 3:0.9190 4:0.9192 5:0.9191 6:0.9190 7:0.9194 8:0.9200 9:0.9201 10:0.9201 11:0.9202 12:0.9201 13:0.9202 14:0.9204 15:0.9205 16:0.9204 17:0.9204 18:0.9204 19:0.9202 "
          ],
          "name": "stdout"
        }
      ]
    },
    {
      "cell_type": "code",
      "metadata": {
        "colab": {
          "base_uri": "https://localhost:8080/"
        },
        "id": "NnYVAx1MFNLq",
        "outputId": "8d525f4c-7193-4b76-9dc1-737061f33ecd"
      },
      "source": [
        "n_epochs = 200\n",
        "for i in range(n_epochs):\n",
        "    train_epoch(linear, lr, params)\n",
        "    if i%10 == 0:\n",
        "        print(f\"{i}:{validate_epoch(evaluate_preds):1.4f}\", end=' ')\n",
        "print(validate_epoch(evaluate_preds))"
      ],
      "execution_count": null,
      "outputs": [
        {
          "output_type": "stream",
          "text": [
            "0:0.9198 10:0.9201 20:0.9212 30:0.9219 40:0.9222 50:0.9218 60:0.9222 70:0.9220 80:0.9220 90:0.9222 100:0.9220 110:0.9216 120:0.9218 130:0.9217 140:0.9218 150:0.9221 160:0.9223 170:0.9221 180:0.9220 190:0.9219 0.922\n"
          ],
          "name": "stdout"
        }
      ]
    },
    {
      "cell_type": "code",
      "metadata": {
        "colab": {
          "base_uri": "https://localhost:8080/"
        },
        "id": "ZcXT3ED0F7nC",
        "outputId": "198d97e4-1add-4ead-8f12-4403798ce4ef"
      },
      "source": [
        "n_epochs = 200\n",
        "for i in range(n_epochs):\n",
        "    train_epoch(linear, lr, params)\n",
        "    if i%10 == 0:\n",
        "        print(f\"{i}:{validate_epoch(evaluate_preds):1.4f}\", end=' ')\n",
        "print(validate_epoch(evaluate_preds))"
      ],
      "execution_count": null,
      "outputs": [
        {
          "output_type": "stream",
          "text": [
            "0:0.9221 10:0.9224 20:0.9226 30:0.9227 40:0.9227 50:0.9229 60:0.9229 70:0.9231 80:0.9232 90:0.9233 100:0.9234 110:0.9232 120:0.9231 130:0.9229 140:0.9228 150:0.9227 160:0.9228 170:0.9228 180:0.9228 190:0.9229 0.9229\n"
          ],
          "name": "stdout"
        }
      ]
    },
    {
      "cell_type": "code",
      "metadata": {
        "id": "G6puUR2RGFUS",
        "colab": {
          "base_uri": "https://localhost:8080/"
        },
        "outputId": "b601b988-e5c9-4701-fcc5-a790e017792f"
      },
      "source": [
        "n_epochs = 2000\n",
        "for i in range(n_epochs):\n",
        "    train_epoch(linear, lr, params)\n",
        "    if i%100 == 0:\n",
        "        print(f\"{i}:{validate_epoch(evaluate_preds):1.4f}\", end=' ')\n",
        "print(validate_epoch(evaluate_preds))"
      ],
      "execution_count": null,
      "outputs": [
        {
          "output_type": "stream",
          "text": [
            "0:0.9220 100:0.9218 200:0.9222 300:0.9218 400:0.9215 500:0.9212 600:0.9215 700:0.9219 800:0.9218 900:0.9216 1000:0.9214 1100:0.9216 1200:0.9216 1300:0.9216 1400:0.9217 1500:0.9216 1600:0.9217 1700:0.9215 1800:0.9215 1900:0.9212 0.9209\n"
          ],
          "name": "stdout"
        }
      ]
    },
    {
      "cell_type": "code",
      "metadata": {
        "colab": {
          "base_uri": "https://localhost:8080/"
        },
        "id": "r-b6pqY3GfSo",
        "outputId": "c1cf4411-8056-483d-f02f-9523b1a88531"
      },
      "source": [
        "print(validate_epoch(evaluate_preds))"
      ],
      "execution_count": null,
      "outputs": [
        {
          "output_type": "stream",
          "text": [
            "0.9209\n"
          ],
          "name": "stdout"
        }
      ]
    },
    {
      "cell_type": "code",
      "metadata": {
        "colab": {
          "base_uri": "https://localhost:8080/",
          "height": 103
        },
        "id": "1RQ09gHxQeZH",
        "outputId": "31d0921b-9644-4999-ac20-da4675be3466"
      },
      "source": [
        "img = valid_tensors_dict[8][49]\n",
        "show_image(img)\n",
        "plt.show()\n",
        "evaluate_preds(img.view(28*28).unsqueeze(dim=0))"
      ],
      "execution_count": null,
      "outputs": [
        {
          "output_type": "display_data",
          "data": {
            "image/png": "[encoded data removed]",
            "text/plain": [
              "<Figure size 72x72 with 1 Axes>"
            ]
          },
          "metadata": {
            "tags": [],
            "needs_background": "light"
          }
        },
        {
          "output_type": "execute_result",
          "data": {
            "text/plain": [
              "tensor([[8]])"
            ]
          },
          "metadata": {
            "tags": []
          },
          "execution_count": 67
        }
      ]
    },
    {
      "cell_type": "code",
      "metadata": {
        "colab": {
          "base_uri": "https://localhost:8080/",
          "height": 103
        },
        "id": "Y-Xceh_zv8l9",
        "outputId": "22dd9b72-f7ec-4c39-82ac-1dfe07c37ca4"
      },
      "source": [
        "img = valid_tensors_dict[2][159]\n",
        "show_image(img)\n",
        "plt.show()\n",
        "evaluate_preds(img.view(28*28).unsqueeze(dim=0))"
      ],
      "execution_count": null,
      "outputs": [
        {
          "output_type": "display_data",
          "data": {
            "image/png": "[encoded data removed]",
            "text/plain": [
              "<Figure size 72x72 with 1 Axes>"
            ]
          },
          "metadata": {
            "tags": [],
            "needs_background": "light"
          }
        },
        {
          "output_type": "execute_result",
          "data": {
            "text/plain": [
              "tensor([[2]])"
            ]
          },
          "metadata": {
            "tags": []
          },
          "execution_count": 68
        }
      ]
    },
    {
      "cell_type": "code",
      "metadata": {
        "colab": {
          "base_uri": "https://localhost:8080/",
          "height": 103
        },
        "id": "mKAD5umvv8cD",
        "outputId": "c297e95d-3071-4c46-83a3-cae38f191693"
      },
      "source": [
        "img = valid_tensors_dict[7][957]\n",
        "show_image(img)\n",
        "plt.show()\n",
        "evaluate_preds(img.view(28*28).unsqueeze(dim=0))"
      ],
      "execution_count": null,
      "outputs": [
        {
          "output_type": "display_data",
          "data": {
            "image/png": "[encoded data removed]",
            "text/plain": [
              "<Figure size 72x72 with 1 Axes>"
            ]
          },
          "metadata": {
            "tags": [],
            "needs_background": "light"
          }
        },
        {
          "output_type": "execute_result",
          "data": {
            "text/plain": [
              "tensor([[7]])"
            ]
          },
          "metadata": {
            "tags": []
          },
          "execution_count": 69
        }
      ]
    },
    {
      "cell_type": "markdown",
      "metadata": {
        "id": "ddlCEUDyux37"
      },
      "source": [
        "## Improve model by introducing ReLu and two layers"
      ]
    },
    {
      "cell_type": "code",
      "metadata": {
        "colab": {
          "base_uri": "https://localhost:8080/"
        },
        "id": "5AKIgUMKvAXc",
        "outputId": "468ded21-e681-4e62-d697-0d88e1eaf54c"
      },
      "source": [
        "def init_params(size, std=1.0): \n",
        "    return (torch.randn(size)*std).requires_grad_()\n",
        "\n",
        "w1 = init_params((28*28, 100))\n",
        "b1 = init_params(100)\n",
        "\n",
        "w2 = init_params((100, 10))\n",
        "b2 = init_params(10)\n",
        "\n",
        "w1.shape, b1.shape, w2.shape, b2.shape"
      ],
      "execution_count": null,
      "outputs": [
        {
          "output_type": "execute_result",
          "data": {
            "text/plain": [
              "(torch.Size([784, 100]),\n",
              " torch.Size([100]),\n",
              " torch.Size([100, 10]),\n",
              " torch.Size([10]))"
            ]
          },
          "metadata": {
            "tags": []
          },
          "execution_count": 70
        }
      ]
    },
    {
      "cell_type": "markdown",
      "metadata": {
        "id": "PX9mzfQCvAXe"
      },
      "source": [
        "##### Define functions to calculate the predictions"
      ]
    },
    {
      "cell_type": "code",
      "metadata": {
        "id": "SR6J5TNEvAXf"
      },
      "source": [
        "activ1 = nn.ReLU()\n",
        "\n",
        "def linear1(xb):\n",
        "    outputs =  xb @ w1 + b1\n",
        "    return activ1(outputs)\n",
        "\n",
        "def linear2(xb):\n",
        "    outputs =  xb @ w2 + b2\n",
        "    probs = F.log_softmax(outputs, dim=1)\n",
        "    return probs\n",
        "\n",
        "def model(xb):\n",
        "    xb = linear1(xb)\n",
        "    xb = linear2(xb)\n",
        "    return xb\n",
        "\n",
        "def classifier(xb):\n",
        "    xb = model(xb)\n",
        "    return xb.argmax(dim=1).unsqueeze(dim=1)"
      ],
      "execution_count": null,
      "outputs": []
    },
    {
      "cell_type": "code",
      "metadata": {
        "id": "Zkif8_INwhnU"
      },
      "source": [
        "# # Testing layer by layer\n",
        "# xb, yb = first(dl)\n",
        "# display(xb.shape, yb.shape)\n",
        "# display(linear1(xb).shape)\n",
        "# display(linear2(linear1(xb)).shape)\n",
        "# display(model(xb))\n",
        "# classifier(xb)[0:3]"
      ],
      "execution_count": null,
      "outputs": []
    },
    {
      "cell_type": "markdown",
      "metadata": {
        "id": "DYA40BUgvAXf"
      },
      "source": [
        "##### Define a function to calculate the loss"
      ]
    },
    {
      "cell_type": "code",
      "metadata": {
        "id": "TaNy5A5OvAXg"
      },
      "source": [
        "loss_fct = F.nll_loss"
      ],
      "execution_count": null,
      "outputs": []
    },
    {
      "cell_type": "markdown",
      "metadata": {
        "id": "HNSqQxstvAXg"
      },
      "source": [
        "##### Define a function to calculate the gradients"
      ]
    },
    {
      "cell_type": "code",
      "metadata": {
        "id": "G7Ac3w6JvAXg"
      },
      "source": [
        "def calc_grad(xb, yb, model):\n",
        "    preds = model(xb)\n",
        "    loss = loss_fct(preds, yb.squeeze())\n",
        "    # print(loss)\n",
        "    loss.backward()"
      ],
      "execution_count": null,
      "outputs": []
    },
    {
      "cell_type": "code",
      "metadata": {
        "id": "xhCBXbTyvAXh"
      },
      "source": [
        "# # Testing function\n",
        "# xb, yb = first(dl)\n",
        "# display(xb.shape, yb.shape)\n",
        "# probs = model(xb)\n",
        "# display(probs.shape)\n",
        "# # display(yb)\n",
        "# loss_fct(probs, yb.squeeze())\n",
        "# calc_grad(xb, yb, model)"
      ],
      "execution_count": null,
      "outputs": []
    },
    {
      "cell_type": "markdown",
      "metadata": {
        "id": "3oWpDgcWvAXh"
      },
      "source": [
        "##### Define a function performing one step/one epoch"
      ]
    },
    {
      "cell_type": "code",
      "metadata": {
        "id": "qkDQTt8yvAXi"
      },
      "source": [
        "def train_epoch(model, lr, params):\n",
        "    for xb, yb in dl:\n",
        "        calc_grad(xb, yb, model)\n",
        "        for p in params:\n",
        "            p.data -= p.grad * lr\n",
        "            p.grad.zero_()"
      ],
      "execution_count": null,
      "outputs": []
    },
    {
      "cell_type": "markdown",
      "metadata": {
        "id": "6J6GFo3jvAXi"
      },
      "source": [
        "##### Define a function to evaluate the validation accurary"
      ]
    },
    {
      "cell_type": "code",
      "metadata": {
        "id": "-d3hPWfyvAXi"
      },
      "source": [
        "#Determines how many of the predictions are actually correct \n",
        "def batch_accuracy(xb, yb):\n",
        "    accuracy = torch.eq(xb, yb).sum() / xb.shape[0]\n",
        "    return accuracy"
      ],
      "execution_count": null,
      "outputs": []
    },
    {
      "cell_type": "code",
      "metadata": {
        "id": "UVgQz70VvAXi"
      },
      "source": [
        "# preds.unsqueeze(dim=1)"
      ],
      "execution_count": null,
      "outputs": []
    },
    {
      "cell_type": "code",
      "metadata": {
        "id": "AADwAdXTvAXi"
      },
      "source": [
        "#Collects the accuracy from each element in the dataloader and displays it\n",
        "def validate_epoch(model):\n",
        "    accs = [batch_accuracy(model(xb), yb) for xb, yb in valid_dl]\n",
        "    return round(torch.stack(accs).mean().item(), 4)"
      ],
      "execution_count": null,
      "outputs": []
    },
    {
      "cell_type": "markdown",
      "metadata": {
        "id": "yaqhJzDevAXi"
      },
      "source": [
        "#### Bringing it all together and run training loop"
      ]
    },
    {
      "cell_type": "markdown",
      "metadata": {
        "id": "aBuIeTLGPYI4"
      },
      "source": [
        "Create a function to run `n` epochs and display results."
      ]
    },
    {
      "cell_type": "code",
      "metadata": {
        "id": "WIeimeJl78K1"
      },
      "source": [
        "from math import log10\n",
        "\n",
        "def run_n_epochs(model, lr, params, n_epochs):\n",
        "    trigger = 10**(int(log10(n_epochs))-1)\n",
        "    cols = 10\n",
        "    starting_i = metric_results['epochs'][-1] + 1\n",
        "    for i in range(starting_i, starting_i + n_epochs):\n",
        "        train_epoch(model, lr, params)\n",
        "        if i%trigger == 0:\n",
        "            v = validate_epoch(classifier)\n",
        "\n",
        "            metric_results['epochs'].append(i)\n",
        "            metric_results['values'].append(v)\n",
        "            \n",
        "            end_str = '\\n' if i//trigger%cols == 0 else ' ' \n",
        "            print(f\"{i:3d}:{v:1.4f}\", end=end_str)\n",
        "    print(f\"\\nLast:{v:1.4f}\")\n",
        "    fig, ax = plt.subplots(1, 1, figsize=(12,4))\n",
        "    ax.scatter(metric_results['epochs'], metric_results['values'])\n",
        "    return metric_results"
      ],
      "execution_count": null,
      "outputs": []
    },
    {
      "cell_type": "markdown",
      "metadata": {
        "id": "PbcQyVqtPgro"
      },
      "source": [
        "Shuffle data, initalize parameters, run one epoch"
      ]
    },
    {
      "cell_type": "code",
      "metadata": {
        "colab": {
          "base_uri": "https://localhost:8080/"
        },
        "id": "TyFqswY8vAXj",
        "outputId": "ef80e17a-e541-47d9-ac37-2448c586dcdd"
      },
      "source": [
        "shuffle(dset)\n",
        "dl = DataLoader(dset, batch_size=256)\n",
        "valid_dl = DataLoader(valid_dset, batch_size=5)\n",
        "\n",
        "w1 = init_params((28*28, 100))\n",
        "b1 = init_params(100)\n",
        "w2 = init_params((100, 10))\n",
        "b2 = init_params(10)\n",
        "\n",
        "lr = 1\n",
        "params = w1, b1, w2, b2\n",
        "\n",
        "metric_results = {}\n",
        "metric_results['epochs'] = [0]\n",
        "metric_results['values'] = [0]\n",
        "\n",
        "train_epoch(model, lr, params)\n",
        "validate_epoch(classifier)"
      ],
      "execution_count": null,
      "outputs": [
        {
          "output_type": "execute_result",
          "data": {
            "text/plain": [
              "0.7478"
            ]
          },
          "metadata": {
            "tags": []
          },
          "execution_count": 82
        }
      ]
    },
    {
      "cell_type": "code",
      "metadata": {
        "colab": {
          "base_uri": "https://localhost:8080/",
          "height": 335
        },
        "id": "wnLgh5gXAj1T",
        "outputId": "03cdc587-8acf-4c12-b4c7-6c36c0ec4de8"
      },
      "source": [
        "metric_results = run_n_epochs(model, lr, params, 20)"
      ],
      "execution_count": null,
      "outputs": [
        {
          "output_type": "stream",
          "text": [
            "  1:0.8242   2:0.8489   3:0.8748   4:0.8843   5:0.8938   6:0.9023   7:0.9064   8:0.9094   9:0.9118  10:0.9146\n",
            " 11:0.9168  12:0.9178  13:0.9192  14:0.9192  15:0.9199  16:0.9207  17:0.9211  18:0.9225  19:0.9247  20:0.9251\n",
            "\n",
            "Last:0.9251\n"
          ],
          "name": "stdout"
        },
        {
          "output_type": "display_data",
          "data": {
            "image/png": "[encoded data removed]",
            "text/plain": [
              "<Figure size 864x288 with 1 Axes>"
            ]
          },
          "metadata": {
            "tags": [],
            "needs_background": "light"
          }
        }
      ]
    },
    {
      "cell_type": "code",
      "metadata": {
        "colab": {
          "base_uri": "https://localhost:8080/",
          "height": 335
        },
        "id": "QIXGZWGZ8TzL",
        "outputId": "7744aeda-effb-43c5-949b-534294a10c11"
      },
      "source": [
        "metric_results = run_n_epochs(model, lr, params, 20)"
      ],
      "execution_count": null,
      "outputs": [
        {
          "output_type": "stream",
          "text": [
            " 21:0.9257  22:0.9266  23:0.9274  24:0.9292  25:0.9301  26:0.9310  27:0.9309  28:0.9318  29:0.9329  30:0.9336\n",
            " 31:0.9340  32:0.9342  33:0.9354  34:0.9356  35:0.9362  36:0.9364  37:0.9361  38:0.9375  39:0.9381  40:0.9388\n",
            "\n",
            "Last:0.9388\n"
          ],
          "name": "stdout"
        },
        {
          "output_type": "display_data",
          "data": {
            "image/png": "[encoded data removed]",
            "text/plain": [
              "<Figure size 864x288 with 1 Axes>"
            ]
          },
          "metadata": {
            "tags": [],
            "needs_background": "light"
          }
        }
      ]
    },
    {
      "cell_type": "code",
      "metadata": {
        "colab": {
          "base_uri": "https://localhost:8080/",
          "height": 335
        },
        "id": "mwMUwNjs90uc",
        "outputId": "51e53618-78e4-4e79-e9ce-efeae68f7731"
      },
      "source": [
        "metric_results = run_n_epochs(model, lr, params, 20)"
      ],
      "execution_count": null,
      "outputs": [
        {
          "output_type": "stream",
          "text": [
            " 41:0.9384  42:0.9403  43:0.9397  44:0.9403  45:0.9407  46:0.9413  47:0.9419  48:0.9420  49:0.9422  50:0.9419\n",
            " 51:0.9413  52:0.9419  53:0.9425  54:0.9419  55:0.9418  56:0.9423  57:0.9424  58:0.9426  59:0.9431  60:0.9428\n",
            "\n",
            "Last:0.9428\n"
          ],
          "name": "stdout"
        },
        {
          "output_type": "display_data",
          "data": {
            "image/png": "[encoded data removed]",
            "text/plain": [
              "<Figure size 864x288 with 1 Axes>"
            ]
          },
          "metadata": {
            "tags": [],
            "needs_background": "light"
          }
        }
      ]
    },
    {
      "cell_type": "code",
      "metadata": {
        "id": "OtEoMIN_1Z50",
        "colab": {
          "base_uri": "https://localhost:8080/",
          "height": 387
        },
        "outputId": "bc422ff8-91c6-448e-e1d4-b90ba31cd492"
      },
      "source": [
        "metric_results = run_n_epochs(model, lr, params, 50)"
      ],
      "execution_count": null,
      "outputs": [
        {
          "output_type": "stream",
          "text": [
            " 61:0.9431  62:0.9435  63:0.9434  64:0.9434  65:0.9434  66:0.9439  67:0.9448  68:0.9443  69:0.9448  70:0.9449\n",
            " 71:0.9441  72:0.9454  73:0.9450  74:0.9451  75:0.9450  76:0.9454  77:0.9458  78:0.9458  79:0.9454  80:0.9459\n",
            " 81:0.9461  82:0.9460  83:0.9461  84:0.9460  85:0.9464  86:0.9465  87:0.9467  88:0.9462  89:0.9469  90:0.9465\n",
            " 91:0.9469  92:0.9470  93:0.9462  94:0.9462  95:0.9460  96:0.9461  97:0.9467  98:0.9464  99:0.9464 100:0.9463\n",
            "101:0.9467 102:0.9466 103:0.9469 104:0.9465 105:0.9464 106:0.9464 107:0.9468 108:0.9463 109:0.9463 110:0.9465\n",
            "\n",
            "Last:0.9465\n"
          ],
          "name": "stdout"
        },
        {
          "output_type": "display_data",
          "data": {
            "image/png": "[encoded data removed]",
            "text/plain": [
              "<Figure size 864x288 with 1 Axes>"
            ]
          },
          "metadata": {
            "tags": [],
            "needs_background": "light"
          }
        }
      ]
    },
    {
      "cell_type": "code",
      "metadata": {
        "id": "xzbnd9At1gpU",
        "colab": {
          "base_uri": "https://localhost:8080/",
          "height": 387
        },
        "outputId": "cb1b02ae-30c1-4bc6-b6c8-9346f2bb6ca1"
      },
      "source": [
        "metric_results = run_n_epochs(model, lr, params, 50)"
      ],
      "execution_count": null,
      "outputs": [
        {
          "output_type": "stream",
          "text": [
            "111:0.9468 112:0.9465 113:0.9466 114:0.9463 115:0.9469 116:0.9474 117:0.9471 118:0.9463 119:0.9471 120:0.9462\n",
            "121:0.9469 122:0.9469 123:0.9471 124:0.9472 125:0.9476 126:0.9473 127:0.9478 128:0.9473 129:0.9477 130:0.9474\n",
            "131:0.9476 132:0.9477 133:0.9476 134:0.9476 135:0.9477 136:0.9476 137:0.9479 138:0.9482 139:0.9477 140:0.9475\n",
            "141:0.9483 142:0.9472 143:0.9474 144:0.9475 145:0.9475 146:0.9478 147:0.9474 148:0.9473 149:0.9474 150:0.9471\n",
            "151:0.9477 152:0.9477 153:0.9475 154:0.9470 155:0.9475 156:0.9472 157:0.9471 158:0.9466 159:0.9471 160:0.9465\n",
            "\n",
            "Last:0.9465\n"
          ],
          "name": "stdout"
        },
        {
          "output_type": "display_data",
          "data": {
            "image/png": "[encoded data removed]",
            "text/plain": [
              "<Figure size 864x288 with 1 Axes>"
            ]
          },
          "metadata": {
            "tags": [],
            "needs_background": "light"
          }
        }
      ]
    },
    {
      "cell_type": "code",
      "metadata": {
        "id": "TBposkA4Ditj",
        "colab": {
          "base_uri": "https://localhost:8080/",
          "height": 439
        },
        "outputId": "e4eca117-f8d0-4106-d706-5a3f40a0c316"
      },
      "source": [
        "metric_results = run_n_epochs(model, lr/5, params, 80)"
      ],
      "execution_count": null,
      "outputs": [
        {
          "output_type": "stream",
          "text": [
            "161:0.9491 162:0.9494 163:0.9492 164:0.9494 165:0.9491 166:0.9493 167:0.9492 168:0.9491 169:0.9493 170:0.9492\n",
            "171:0.9490 172:0.9493 173:0.9490 174:0.9490 175:0.9490 176:0.9490 177:0.9490 178:0.9489 179:0.9490 180:0.9490\n",
            "181:0.9490 182:0.9491 183:0.9490 184:0.9490 185:0.9490 186:0.9490 187:0.9490 188:0.9487 189:0.9490 190:0.9489\n",
            "191:0.9489 192:0.9490 193:0.9488 194:0.9491 195:0.9491 196:0.9489 197:0.9490 198:0.9489 199:0.9489 200:0.9490\n",
            "201:0.9488 202:0.9490 203:0.9490 204:0.9489 205:0.9489 206:0.9494 207:0.9491 208:0.9489 209:0.9491 210:0.9491\n",
            "211:0.9489 212:0.9493 213:0.9491 214:0.9489 215:0.9489 216:0.9489 217:0.9490 218:0.9490 219:0.9488 220:0.9489\n",
            "221:0.9491 222:0.9490 223:0.9490 224:0.9490 225:0.9491 226:0.9491 227:0.9493 228:0.9494 229:0.9494 230:0.9496\n",
            "231:0.9493 232:0.9496 233:0.9494 234:0.9496 235:0.9496 236:0.9497 237:0.9497 238:0.9496 239:0.9496 240:0.9496\n",
            "\n",
            "Last:0.9496\n"
          ],
          "name": "stdout"
        },
        {
          "output_type": "display_data",
          "data": {
            "image/png": "[encoded data removed]",
            "text/plain": [
              "<Figure size 864x288 with 1 Axes>"
            ]
          },
          "metadata": {
            "tags": [],
            "needs_background": "light"
          }
        }
      ]
    },
    {
      "cell_type": "code",
      "metadata": {
        "id": "bPlz0M76DjTO"
      },
      "source": [
        ""
      ],
      "execution_count": null,
      "outputs": []
    },
    {
      "cell_type": "code",
      "metadata": {
        "colab": {
          "base_uri": "https://localhost:8080/",
          "height": 103
        },
        "id": "3mXfRZW3-IZk",
        "outputId": "303bb9db-6fe7-49c7-857d-b8cab89f66eb"
      },
      "source": [
        "img = valid_tensors_dict[8][49]\n",
        "show_image(img)\n",
        "plt.show()\n",
        "classifier(img.view(28*28).unsqueeze(dim=0))"
      ],
      "execution_count": null,
      "outputs": [
        {
          "output_type": "display_data",
          "data": {
            "image/png": "[encoded data removed]",
            "text/plain": [
              "<Figure size 72x72 with 1 Axes>"
            ]
          },
          "metadata": {
            "tags": [],
            "needs_background": "light"
          }
        },
        {
          "output_type": "execute_result",
          "data": {
            "text/plain": [
              "tensor([[8]])"
            ]
          },
          "metadata": {
            "tags": []
          },
          "execution_count": 89
        }
      ]
    },
    {
      "cell_type": "code",
      "metadata": {
        "colab": {
          "base_uri": "https://localhost:8080/",
          "height": 103
        },
        "id": "G7DbB7ha-IZr",
        "outputId": "1ff7b5f2-c4b2-4017-fe87-8c9e5f52c7d9"
      },
      "source": [
        "img = valid_tensors_dict[2][159]\n",
        "show_image(img)\n",
        "plt.show()\n",
        "\n",
        "classifier(img.view(28*28).unsqueeze(dim=0))"
      ],
      "execution_count": null,
      "outputs": [
        {
          "output_type": "display_data",
          "data": {
            "image/png": "[encoded data removed]",
            "text/plain": [
              "<Figure size 72x72 with 1 Axes>"
            ]
          },
          "metadata": {
            "tags": [],
            "needs_background": "light"
          }
        },
        {
          "output_type": "execute_result",
          "data": {
            "text/plain": [
              "tensor([[2]])"
            ]
          },
          "metadata": {
            "tags": []
          },
          "execution_count": 90
        }
      ]
    },
    {
      "cell_type": "code",
      "metadata": {
        "colab": {
          "base_uri": "https://localhost:8080/",
          "height": 103
        },
        "id": "YIrEcrwl-IZr",
        "outputId": "1c2fa7a0-1566-47ac-8330-7f7c35aaa419"
      },
      "source": [
        "img = valid_tensors_dict[7][957]\n",
        "show_image(img)\n",
        "plt.show()\n",
        "\n",
        "classifier(img.view(28*28).unsqueeze(dim=0))"
      ],
      "execution_count": null,
      "outputs": [
        {
          "output_type": "display_data",
          "data": {
            "image/png": "[encoded data removed]",
            "text/plain": [
              "<Figure size 72x72 with 1 Axes>"
            ]
          },
          "metadata": {
            "tags": [],
            "needs_background": "light"
          }
        },
        {
          "output_type": "execute_result",
          "data": {
            "text/plain": [
              "tensor([[7]])"
            ]
          },
          "metadata": {
            "tags": []
          },
          "execution_count": 91
        }
      ]
    },
    {
      "cell_type": "code",
      "metadata": {
        "id": "9oI2FvUN-Cgz"
      },
      "source": [
        ""
      ],
      "execution_count": null,
      "outputs": []
    },
    {
      "cell_type": "code",
      "metadata": {
        "id": "yNjM1Ml31_0E"
      },
      "source": [
        ""
      ],
      "execution_count": null,
      "outputs": []
    },
    {
      "cell_type": "markdown",
      "metadata": {
        "id": "181oE9ezELNy"
      },
      "source": [
        "## Improvement 2 model by introducing ReLu and three layers"
      ]
    },
    {
      "cell_type": "code",
      "metadata": {
        "colab": {
          "base_uri": "https://localhost:8080/"
        },
        "id": "8Mej-i-JELNz",
        "outputId": "505f9970-e67b-416a-bf02-6ebd84b10ab7"
      },
      "source": [
        "def init_params(size, std=1.0): \n",
        "    return (torch.randn(size)*std).requires_grad_()\n",
        "\n",
        "w1 = init_params((28*28, 250))\n",
        "b1 = init_params(250)\n",
        "\n",
        "w2 = init_params((250, 100))\n",
        "b2 = init_params(100)\n",
        "\n",
        "w3 = init_params((100, 10))\n",
        "b3 = init_params(10)\n",
        "\n",
        "w1.shape, b1.shape, w2.shape, b2.shape, w3.shape, b3.shape"
      ],
      "execution_count": null,
      "outputs": [
        {
          "output_type": "execute_result",
          "data": {
            "text/plain": [
              "(torch.Size([784, 250]),\n",
              " torch.Size([250]),\n",
              " torch.Size([250, 100]),\n",
              " torch.Size([100]),\n",
              " torch.Size([100, 10]),\n",
              " torch.Size([10]))"
            ]
          },
          "metadata": {
            "tags": []
          },
          "execution_count": 92
        }
      ]
    },
    {
      "cell_type": "markdown",
      "metadata": {
        "id": "gB-4uG4IELN0"
      },
      "source": [
        "##### Define functions to calculate the predictions"
      ]
    },
    {
      "cell_type": "code",
      "metadata": {
        "id": "LabWssUNELN1"
      },
      "source": [
        "activ1 = nn.ReLU()\n",
        "\n",
        "def linear1(xb):\n",
        "    outputs =  xb @ w1 + b1\n",
        "    return activ1(outputs)\n",
        "\n",
        "def linear2(xb):\n",
        "    outputs =  xb @ w2 + b2\n",
        "    return activ1(outputs)\n",
        "\n",
        "def linear3(xb):\n",
        "    \"\"\"https://pytorch.org/docs/stable/nn.functional.html#torch.nn.functional.log_softmax\"\"\"\n",
        "    outputs =  xb @ w3 + b3\n",
        "    probs = torch.log_softmax(outputs, dim=1)\n",
        "    return probs\n",
        "\n",
        "def model(xb):\n",
        "    xb = linear1(xb)\n",
        "    xb = linear2(xb)\n",
        "    xb = linear3(xb)\n",
        "    return xb\n",
        "\n",
        "def classifier(xb):\n",
        "    xb = model(xb)\n",
        "    return xb.argmax(dim=1).unsqueeze(dim=1)"
      ],
      "execution_count": null,
      "outputs": []
    },
    {
      "cell_type": "code",
      "metadata": {
        "id": "a359RvWkELN1"
      },
      "source": [
        "# # Testing layer by layer\n",
        "# xb, yb = first(dl)\n",
        "# display(xb.shape, yb.shape)\n",
        "# display(linear1(xb).shape)\n",
        "# display(linear2(linear1(xb)).shape)\n",
        "# display(linear3(linear2(linear1(xb))).shape)\n",
        "# display(model(xb))\n",
        "# classifier(xb)[0:3]"
      ],
      "execution_count": null,
      "outputs": []
    },
    {
      "cell_type": "markdown",
      "metadata": {
        "id": "llDIsX4KELN2"
      },
      "source": [
        "##### Define a function to calculate the loss"
      ]
    },
    {
      "cell_type": "code",
      "metadata": {
        "id": "2c9pQh2PELN2"
      },
      "source": [
        "loss_fct = F.nll_loss"
      ],
      "execution_count": null,
      "outputs": []
    },
    {
      "cell_type": "markdown",
      "metadata": {
        "id": "imw0hvlqELN3"
      },
      "source": [
        "##### Define a function to calculate the gradients"
      ]
    },
    {
      "cell_type": "code",
      "metadata": {
        "id": "jZydlieWELN3"
      },
      "source": [
        "def calc_grad(xb, yb, model):\n",
        "    preds = model(xb)\n",
        "    loss = loss_fct(preds, yb.squeeze())\n",
        "    # print(loss)\n",
        "    loss.backward()"
      ],
      "execution_count": null,
      "outputs": []
    },
    {
      "cell_type": "code",
      "metadata": {
        "id": "o7j3EL5OELN4"
      },
      "source": [
        "# # Testing function\n",
        "# xb, yb = first(dl)\n",
        "# display(xb.shape, yb.shape)\n",
        "# probs = model(xb)\n",
        "# display(probs.shape)\n",
        "# # display(yb)\n",
        "# loss_fct(probs, yb.squeeze())\n",
        "# calc_grad(xb, yb, model)"
      ],
      "execution_count": null,
      "outputs": []
    },
    {
      "cell_type": "markdown",
      "metadata": {
        "id": "hMEf8gBPELN4"
      },
      "source": [
        "##### Define a function performing one step/one epoch"
      ]
    },
    {
      "cell_type": "code",
      "metadata": {
        "id": "ythX26KAELN5"
      },
      "source": [
        "def train_epoch(model, lr, params):\n",
        "    for xb, yb in dl:\n",
        "        calc_grad(xb, yb, model)\n",
        "        for p in params:\n",
        "            p.data -= p.grad * lr\n",
        "            p.grad.zero_()"
      ],
      "execution_count": null,
      "outputs": []
    },
    {
      "cell_type": "markdown",
      "metadata": {
        "id": "_vOlDoGnELN5"
      },
      "source": [
        "##### Define a function to evaluate the validation accurary"
      ]
    },
    {
      "cell_type": "code",
      "metadata": {
        "id": "O9ntDGtqELN7"
      },
      "source": [
        "#Determines how many of the predictions are actually correct \n",
        "def batch_accuracy(xb, yb):\n",
        "    accuracy = torch.eq(xb, yb).sum() / xb.shape[0]\n",
        "    return accuracy"
      ],
      "execution_count": null,
      "outputs": []
    },
    {
      "cell_type": "code",
      "metadata": {
        "id": "KkpHxR5jELN8"
      },
      "source": [
        "# preds.unsqueeze(dim=1)"
      ],
      "execution_count": null,
      "outputs": []
    },
    {
      "cell_type": "code",
      "metadata": {
        "id": "9iFwVrglELN8"
      },
      "source": [
        "#Collects the accuracy from each element in the dataloader and displays it\n",
        "def validate_epoch(model):\n",
        "    accs = [batch_accuracy(model(xb), yb) for xb, yb in valid_dl]\n",
        "    return round(torch.stack(accs).mean().item(), 4)"
      ],
      "execution_count": null,
      "outputs": []
    },
    {
      "cell_type": "markdown",
      "metadata": {
        "id": "Co3xbdagELN9"
      },
      "source": [
        "#### Bringing it all together and run training loop"
      ]
    },
    {
      "cell_type": "markdown",
      "metadata": {
        "id": "5Wt7YYg5ELN9"
      },
      "source": [
        "Create a function to run `n` epochs and display results."
      ]
    },
    {
      "cell_type": "code",
      "metadata": {
        "id": "BjnqFRyBELN9"
      },
      "source": [
        "from math import log10\n",
        "\n",
        "def run_n_epochs(model, lr, params, n_epochs):\n",
        "    trigger = 10**(int(log10(n_epochs))-1)\n",
        "    cols = 10\n",
        "    starting_i = metric_results['epochs'][-1] + 1\n",
        "    for i in range(starting_i, starting_i + n_epochs):\n",
        "        train_epoch(model, lr, params)\n",
        "        if i%trigger == 0:\n",
        "            v = validate_epoch(classifier)\n",
        "\n",
        "            metric_results['epochs'].append(i)\n",
        "            metric_results['values'].append(v)\n",
        "            \n",
        "            end_str = '\\n' if i//trigger%cols == 0 else ' ' \n",
        "            print(f\"{i:3d}:{v:1.4f}\", end=end_str)\n",
        "    print(f\"\\nLast:{v:1.4f}\")\n",
        "    fig, ax = plt.subplots(1, 1, figsize=(12,4))\n",
        "    ax.scatter(metric_results['epochs'], metric_results['values'])\n",
        "    return metric_results"
      ],
      "execution_count": null,
      "outputs": []
    },
    {
      "cell_type": "markdown",
      "metadata": {
        "id": "MzeqRUTNELN-"
      },
      "source": [
        "Shuffle data, initalize parameters, run one epoch"
      ]
    },
    {
      "cell_type": "code",
      "metadata": {
        "colab": {
          "base_uri": "https://localhost:8080/"
        },
        "id": "38xKDG2fELN-",
        "outputId": "ed40aa6a-8f49-4ea4-a21b-1cc5f196800f"
      },
      "source": [
        "shuffle(dset)\n",
        "dl = DataLoader(dset, batch_size=256)\n",
        "valid_dl = DataLoader(valid_dset, batch_size=5)\n",
        "\n",
        "w1 = init_params((28*28, 250))\n",
        "b1 = init_params(250)\n",
        "w2 = init_params((250, 100))\n",
        "b2 = init_params(100)\n",
        "w3 = init_params((100, 10))\n",
        "b3 = init_params(10)\n",
        "\n",
        "lr = 1\n",
        "params = w1, b1, w2, b2\n",
        "\n",
        "metric_results = {}\n",
        "metric_results['epochs'] = [0]\n",
        "metric_results['values'] = [0]\n",
        "\n",
        "train_epoch(model, lr, params)\n",
        "validate_epoch(classifier)"
      ],
      "execution_count": null,
      "outputs": [
        {
          "output_type": "execute_result",
          "data": {
            "text/plain": [
              "0.1405"
            ]
          },
          "metadata": {
            "tags": []
          },
          "execution_count": 103
        }
      ]
    },
    {
      "cell_type": "code",
      "metadata": {
        "colab": {
          "base_uri": "https://localhost:8080/",
          "height": 335
        },
        "id": "7vb3sexJELN_",
        "outputId": "b560a14d-13a5-4fc2-d4e6-3471f4f1be4b"
      },
      "source": [
        "metric_results = run_n_epochs(model, lr, params, 20)"
      ],
      "execution_count": null,
      "outputs": [
        {
          "output_type": "stream",
          "text": [
            " 41:0.5276  42:0.4623  43:0.5463  44:0.5656  45:0.5794  46:0.5963  47:0.5719  48:0.5514  49:0.5550  50:0.6071\n",
            " 51:0.5922  52:0.5620  53:0.5574  54:0.5608  55:0.5621  56:0.5556  57:0.5554  58:0.5489  59:0.5433  60:0.5584\n",
            "\n",
            "Last:0.5584\n"
          ],
          "name": "stdout"
        },
        {
          "output_type": "display_data",
          "data": {
            "image/png": "[encoded data removed]",
            "text/plain": [
              "<Figure size 864x288 with 1 Axes>"
            ]
          },
          "metadata": {
            "tags": [],
            "needs_background": "light"
          }
        }
      ]
    },
    {
      "cell_type": "code",
      "metadata": {
        "colab": {
          "base_uri": "https://localhost:8080/",
          "height": 335
        },
        "id": "ViuA51I9ELN_",
        "outputId": "2ed3956d-a352-4807-c026-7822311bc548"
      },
      "source": [
        "metric_results = run_n_epochs(model, lr, params, 20)"
      ],
      "execution_count": null,
      "outputs": [
        {
          "output_type": "stream",
          "text": [
            " 61:0.5776  62:0.6114  63:0.6349  64:0.6239  65:0.6339  66:0.6354  67:0.6473  68:0.6362  69:0.6390  70:0.6365\n",
            " 71:0.6507  72:0.6403  73:0.6547  74:0.6600  75:0.6387  76:0.6414  77:0.6537  78:0.6538  79:0.6526  80:0.6629\n",
            "\n",
            "Last:0.6629\n"
          ],
          "name": "stdout"
        },
        {
          "output_type": "display_data",
          "data": {
            "image/png": "[encoded data removed]",
            "text/plain": [
              "<Figure size 864x288 with 1 Axes>"
            ]
          },
          "metadata": {
            "tags": [],
            "needs_background": "light"
          }
        }
      ]
    },
    {
      "cell_type": "code",
      "metadata": {
        "colab": {
          "base_uri": "https://localhost:8080/",
          "height": 335
        },
        "id": "Zqd0m-XGGLk4",
        "outputId": "8e153ab9-6733-427a-af71-ff7ca897ec11"
      },
      "source": [
        "metric_results = run_n_epochs(model, lr, params, 20)"
      ],
      "execution_count": null,
      "outputs": [
        {
          "output_type": "stream",
          "text": [
            " 81:0.6751  82:0.6614  83:0.6821  84:0.6734  85:0.6711  86:0.6318  87:0.6844  88:0.7104  89:0.6205  90:0.7080\n",
            " 91:0.6939  92:0.7033  93:0.7162  94:0.7303  95:0.7242  96:0.7249  97:0.7397  98:0.7038  99:0.7109 100:0.7328\n",
            "\n",
            "Last:0.7328\n"
          ],
          "name": "stdout"
        },
        {
          "output_type": "display_data",
          "data": {
            "image/png": "[encoded data removed]",
            "text/plain": [
              "<Figure size 864x288 with 1 Axes>"
            ]
          },
          "metadata": {
            "tags": [],
            "needs_background": "light"
          }
        }
      ]
    },
    {
      "cell_type": "markdown",
      "metadata": {
        "id": "L0LrEYSx5E1i"
      },
      "source": [
        "Adjust the learning rate to have slower learning from here"
      ]
    },
    {
      "cell_type": "code",
      "metadata": {
        "colab": {
          "base_uri": "https://localhost:8080/",
          "height": 335
        },
        "id": "IY3B6_N0GLeG",
        "outputId": "734d690b-3978-482e-be0f-bf77eff619ef"
      },
      "source": [
        "metric_results = run_n_epochs(model, lr/2, params, 20)"
      ],
      "execution_count": null,
      "outputs": [
        {
          "output_type": "stream",
          "text": [
            "101:0.7421 102:0.7544 103:0.7438 104:0.7495 105:0.7591 106:0.7576 107:0.7565 108:0.7523 109:0.7633 110:0.7627\n",
            "111:0.7639 112:0.7670 113:0.7717 114:0.7647 115:0.7663 116:0.7738 117:0.7742 118:0.7714 119:0.7662 120:0.7785\n",
            "\n",
            "Last:0.7785\n"
          ],
          "name": "stdout"
        },
        {
          "output_type": "display_data",
          "data": {
            "image/png": "[encoded data removed]",
            "text/plain": [
              "<Figure size 864x288 with 1 Axes>"
            ]
          },
          "metadata": {
            "tags": [],
            "needs_background": "light"
          }
        }
      ]
    },
    {
      "cell_type": "code",
      "metadata": {
        "colab": {
          "base_uri": "https://localhost:8080/",
          "height": 335
        },
        "id": "aerSw38SGLaR",
        "outputId": "c65da725-a478-4196-958f-0bdfbf89408e"
      },
      "source": [
        "metric_results = run_n_epochs(model, lr/2, params, 20)"
      ],
      "execution_count": null,
      "outputs": [
        {
          "output_type": "stream",
          "text": [
            "121:0.7759 122:0.7813 123:0.7877 124:0.7833 125:0.7767 126:0.7742 127:0.7856 128:0.7816 129:0.7883 130:0.7797\n",
            "131:0.7811 132:0.7834 133:0.7836 134:0.7822 135:0.7912 136:0.7840 137:0.7761 138:0.7826 139:0.7847 140:0.7925\n",
            "\n",
            "Last:0.7925\n"
          ],
          "name": "stdout"
        },
        {
          "output_type": "display_data",
          "data": {
            "image/png": "[encoded data removed]",
            "text/plain": [
              "<Figure size 864x288 with 1 Axes>"
            ]
          },
          "metadata": {
            "tags": [],
            "needs_background": "light"
          }
        }
      ]
    },
    {
      "cell_type": "code",
      "metadata": {
        "colab": {
          "base_uri": "https://localhost:8080/",
          "height": 335
        },
        "id": "0VtUybcaGjwd",
        "outputId": "c265886c-f22a-47ea-fba7-55023e2033ec"
      },
      "source": [
        "metric_results = run_n_epochs(model, lr/2, params, 20)"
      ],
      "execution_count": null,
      "outputs": [
        {
          "output_type": "stream",
          "text": [
            "141:0.7785 142:0.7832 143:0.7870 144:0.7887 145:0.7927 146:0.7852 147:0.7887 148:0.7910 149:0.7941 150:0.7941\n",
            "151:0.7903 152:0.7932 153:0.7548 154:0.7958 155:0.7955 156:0.7939 157:0.7968 158:0.7931 159:0.7945 160:0.7974\n",
            "\n",
            "Last:0.7974\n"
          ],
          "name": "stdout"
        },
        {
          "output_type": "display_data",
          "data": {
            "image/png": "[encoded data removed]",
            "text/plain": [
              "<Figure size 864x288 with 1 Axes>"
            ]
          },
          "metadata": {
            "tags": [],
            "needs_background": "light"
          }
        }
      ]
    },
    {
      "cell_type": "code",
      "metadata": {
        "colab": {
          "base_uri": "https://localhost:8080/",
          "height": 335
        },
        "id": "EEQmMBddGjs_",
        "outputId": "eb65395e-f508-4dd7-8ddd-7885078784dc"
      },
      "source": [
        "metric_results = run_n_epochs(model, lr/2, params, 20)"
      ],
      "execution_count": null,
      "outputs": [
        {
          "output_type": "stream",
          "text": [
            "161:0.7925 162:0.7883 163:0.7964 164:0.7991 165:0.7988 166:0.7951 167:0.7971 168:0.7904 169:0.7880 170:0.7973\n",
            "171:0.7934 172:0.7990 173:0.8008 174:0.7864 175:0.7973 176:0.8014 177:0.7873 178:0.7987 179:0.8122 180:0.8303\n",
            "\n",
            "Last:0.8303\n"
          ],
          "name": "stdout"
        },
        {
          "output_type": "display_data",
          "data": {
            "image/png": "[encoded data removed]",
            "text/plain": [
              "<Figure size 864x288 with 1 Axes>"
            ]
          },
          "metadata": {
            "tags": [],
            "needs_background": "light"
          }
        }
      ]
    },
    {
      "cell_type": "markdown",
      "metadata": {
        "id": "WRirDqFh5siJ"
      },
      "source": [
        "Seems we are bouncing between two values and not improving. Further reduction of the learning rate for even slower training. "
      ]
    },
    {
      "cell_type": "code",
      "metadata": {
        "colab": {
          "base_uri": "https://localhost:8080/",
          "height": 335
        },
        "id": "WjRUzdZPGjps",
        "outputId": "0a08cc27-ae25-4f6c-f231-9e9991738164"
      },
      "source": [
        "metric_results = run_n_epochs(model, lr/4, params, 20)"
      ],
      "execution_count": null,
      "outputs": [
        {
          "output_type": "stream",
          "text": [
            "181:0.8544 182:0.8564 183:0.8604 184:0.8614 185:0.8641 186:0.8639 187:0.8666 188:0.8668 189:0.8662 190:0.8673\n",
            "191:0.8665 192:0.8677 193:0.8671 194:0.8690 195:0.8711 196:0.8700 197:0.8705 198:0.8699 199:0.8713 200:0.8699\n",
            "\n",
            "Last:0.8699\n"
          ],
          "name": "stdout"
        },
        {
          "output_type": "display_data",
          "data": {
            "image/png": "[encoded data removed]",
            "text/plain": [
              "<Figure size 864x288 with 1 Axes>"
            ]
          },
          "metadata": {
            "tags": [],
            "needs_background": "light"
          }
        }
      ]
    },
    {
      "cell_type": "markdown",
      "metadata": {
        "id": "49ppCbLq6Cla"
      },
      "source": [
        "It worked, we managed to pass above 75% accuracy"
      ]
    },
    {
      "cell_type": "code",
      "metadata": {
        "colab": {
          "base_uri": "https://localhost:8080/",
          "height": 387
        },
        "id": "yM_jEbbAGje0",
        "outputId": "8cf7749e-1d65-4d37-b77a-b8e74b4e3d0e"
      },
      "source": [
        "metric_results = run_n_epochs(model, lr/4, params, 50)"
      ],
      "execution_count": null,
      "outputs": [
        {
          "output_type": "stream",
          "text": [
            "201:0.8704 202:0.8710 203:0.8711 204:0.8718 205:0.8715 206:0.8707 207:0.8725 208:0.8733 209:0.8721 210:0.8737\n",
            "211:0.8735 212:0.8737 213:0.8724 214:0.8739 215:0.8725 216:0.8739 217:0.8731 218:0.8727 219:0.8733 220:0.8733\n",
            "221:0.8715 222:0.8713 223:0.8737 224:0.8707 225:0.8727 226:0.8739 227:0.8719 228:0.8761 229:0.8739 230:0.8742\n",
            "231:0.8739 232:0.8745 233:0.8745 234:0.8763 235:0.8757 236:0.8777 237:0.8764 238:0.8769 239:0.8774 240:0.8774\n",
            "241:0.8771 242:0.8762 243:0.8797 244:0.8767 245:0.8786 246:0.8765 247:0.8758 248:0.8777 249:0.8779 250:0.8790\n",
            "\n",
            "Last:0.8790\n"
          ],
          "name": "stdout"
        },
        {
          "output_type": "display_data",
          "data": {
            "image/png": "[encoded data removed]",
            "text/plain": [
              "<Figure size 864x288 with 1 Axes>"
            ]
          },
          "metadata": {
            "tags": [],
            "needs_background": "light"
          }
        }
      ]
    },
    {
      "cell_type": "markdown",
      "metadata": {
        "id": "JjFn_eMx6JGi"
      },
      "source": [
        "Let's reduce even more the learning rate to try to reach higher accuracy."
      ]
    },
    {
      "cell_type": "code",
      "metadata": {
        "colab": {
          "base_uri": "https://localhost:8080/",
          "height": 317
        },
        "id": "RENoPJuzIkHk",
        "outputId": "e61f9d38-6ba0-4736-fd5a-79ee26474dfb"
      },
      "source": [
        "metric_results = run_n_epochs(model, lr/8, params, 100)"
      ],
      "execution_count": null,
      "outputs": [
        {
          "output_type": "stream",
          "text": [
            "260:0.8806 270:0.8809 280:0.8811 290:0.8810 300:0.8814\n",
            "310:0.8812 320:0.8823 330:0.8826 340:0.8822 350:0.8821 \n",
            "Last:0.8821\n"
          ],
          "name": "stdout"
        },
        {
          "output_type": "display_data",
          "data": {
            "image/png": "[encoded data removed]",
            "text/plain": [
              "<Figure size 864x288 with 1 Axes>"
            ]
          },
          "metadata": {
            "tags": [],
            "needs_background": "light"
          }
        }
      ]
    },
    {
      "cell_type": "code",
      "metadata": {
        "colab": {
          "base_uri": "https://localhost:8080/",
          "height": 387
        },
        "id": "GpgXc1ZFIj9u",
        "outputId": "d3a77c68-bbbc-4686-9ef1-42eb72bb4510"
      },
      "source": [
        "metric_results = run_n_epochs(model, lr/16, params, 500)"
      ],
      "execution_count": null,
      "outputs": [
        {
          "output_type": "stream",
          "text": [
            "360:0.8839 370:0.8846 380:0.8846 390:0.8845 400:0.8844\n",
            "410:0.8848 420:0.8843 430:0.8842 440:0.8845 450:0.8852 460:0.8849 470:0.8848 480:0.8855 490:0.8851 500:0.8854\n",
            "510:0.8851 520:0.8853 530:0.8849 540:0.8845 550:0.8849 560:0.8851 570:0.8848 580:0.8848 590:0.8854 600:0.8846\n",
            "610:0.8854 620:0.8857 630:0.8860 640:0.8859 650:0.8861 660:0.8865 670:0.8862 680:0.8860 690:0.8859 700:0.8867\n",
            "710:0.8868 720:0.8866 730:0.8870 740:0.8868 750:0.8870 760:0.8870 770:0.8875 780:0.8872 790:0.8875 800:0.8871\n",
            "810:0.8869 820:0.8875 830:0.8872 840:0.8869 850:0.8871 \n",
            "Last:0.8871\n"
          ],
          "name": "stdout"
        },
        {
          "output_type": "display_data",
          "data": {
            "image/png": "[encoded data removed]",
            "text/plain": [
              "<Figure size 864x288 with 1 Axes>"
            ]
          },
          "metadata": {
            "tags": [],
            "needs_background": "light"
          }
        }
      ]
    }
  ]
}