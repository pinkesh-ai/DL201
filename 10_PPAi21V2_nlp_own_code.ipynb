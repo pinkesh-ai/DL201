{
  "nbformat": 4,
  "nbformat_minor": 0,
  "metadata": {
    "colab": {
      "name": "10_PPAi21V2_nlp_own_code.ipynb",
      "provenance": [],
      "collapsed_sections": [],
      "include_colab_link": true
    },
    "kernelspec": {
      "name": "python3",
      "display_name": "Python 3"
    },
    "language_info": {
      "name": "python"
    },
    "accelerator": "GPU"
  },
  "cells": [
    {
      "cell_type": "markdown",
      "metadata": {
        "id": "view-in-github",
        "colab_type": "text"
      },
      "source": [
        "<a href=\"https://colab.research.google.com/github/pinkesh-ai/DL201/blob/main/10_PPAi21V2_nlp_own_code.ipynb\" target=\"_parent\"><img src=\"https://colab.research.google.com/assets/colab-badge.svg\" alt=\"Open In Colab\"/></a>"
      ]
    },
    {
      "cell_type": "markdown",
      "metadata": {
        "id": "j3T-2NPIRRE-"
      },
      "source": [
        "# NLP Deep Dive - Own Code"
      ]
    },
    {
      "cell_type": "markdown",
      "metadata": {
        "id": "bcF86rzkRV0m"
      },
      "source": [
        "Own refactored code and notes for *Chapter 10: NLP Deep Dive: RNNs* ([`10_nlp.ipynb`](https://colab.research.google.com/github/vtecftwy/fastbook/blob/master/10_nlp.ipynb))."
      ]
    },
    {
      "cell_type": "markdown",
      "metadata": {
        "id": "OsaHv4EvRhEn"
      },
      "source": [
        "## Instructions"
      ]
    },
    {
      "cell_type": "markdown",
      "metadata": {
        "id": "RPjNlZiJTrp4"
      },
      "source": [
        "It is recommended that you work in two steps:\n",
        "1. Copy the code from the fastbook notebook and make sure it works\n",
        "2. Refactor (i.e. rewrite the code in your own style) by \n",
        "    - regrouping things together that make sense ro you\n",
        "    - adding text cells to explain what to code does in your own words and possible references to the doc you may have consulsted\n",
        "    - deleting code you think was only there to explain things but are not required once you run models end to end\n",
        "\n",
        "When you have done that, you get a customized reference notebook for you which you can consult later on when you forgot the details, withouht having to read the full notebook from fastbook."
      ]
    },
    {
      "cell_type": "markdown",
      "metadata": {
        "id": "I0HodndDt7ih"
      },
      "source": [
        "10: NLP - Patel "
      ]
    },
    {
      "cell_type": "code",
      "metadata": {
        "id": "FQ_iZ_G0t9sD",
        "colab": {
          "base_uri": "https://localhost:8080/"
        },
        "outputId": "9a3924d0-1b87-4f63-b7b7-3ec7cd5f3110"
      },
      "source": [
        "#hide\n",
        "!pip install -Uqq fastbook\n",
        "import fastbook\n",
        "fastbook.setup_book()"
      ],
      "execution_count": 1,
      "outputs": [
        {
          "output_type": "stream",
          "text": [
            "\u001b[?25l\r\u001b[K     |▌                               | 10kB 27.9MB/s eta 0:00:01\r\u001b[K     |█                               | 20kB 23.7MB/s eta 0:00:01\r\u001b[K     |█▍                              | 30kB 16.7MB/s eta 0:00:01\r\u001b[K     |█▉                              | 40kB 14.6MB/s eta 0:00:01\r\u001b[K     |██▎                             | 51kB 8.2MB/s eta 0:00:01\r\u001b[K     |██▊                             | 61kB 8.2MB/s eta 0:00:01\r\u001b[K     |███▏                            | 71kB 8.4MB/s eta 0:00:01\r\u001b[K     |███▋                            | 81kB 9.3MB/s eta 0:00:01\r\u001b[K     |████                            | 92kB 9.7MB/s eta 0:00:01\r\u001b[K     |████▌                           | 102kB 8.0MB/s eta 0:00:01\r\u001b[K     |█████                           | 112kB 8.0MB/s eta 0:00:01\r\u001b[K     |█████▌                          | 122kB 8.0MB/s eta 0:00:01\r\u001b[K     |██████                          | 133kB 8.0MB/s eta 0:00:01\r\u001b[K     |██████▍                         | 143kB 8.0MB/s eta 0:00:01\r\u001b[K     |██████▉                         | 153kB 8.0MB/s eta 0:00:01\r\u001b[K     |███████▎                        | 163kB 8.0MB/s eta 0:00:01\r\u001b[K     |███████▊                        | 174kB 8.0MB/s eta 0:00:01\r\u001b[K     |████████▏                       | 184kB 8.0MB/s eta 0:00:01\r\u001b[K     |████████▋                       | 194kB 8.0MB/s eta 0:00:01\r\u001b[K     |█████████                       | 204kB 8.0MB/s eta 0:00:01\r\u001b[K     |█████████▋                      | 215kB 8.0MB/s eta 0:00:01\r\u001b[K     |██████████                      | 225kB 8.0MB/s eta 0:00:01\r\u001b[K     |██████████▌                     | 235kB 8.0MB/s eta 0:00:01\r\u001b[K     |███████████                     | 245kB 8.0MB/s eta 0:00:01\r\u001b[K     |███████████▍                    | 256kB 8.0MB/s eta 0:00:01\r\u001b[K     |███████████▉                    | 266kB 8.0MB/s eta 0:00:01\r\u001b[K     |████████████▎                   | 276kB 8.0MB/s eta 0:00:01\r\u001b[K     |████████████▊                   | 286kB 8.0MB/s eta 0:00:01\r\u001b[K     |█████████████▏                  | 296kB 8.0MB/s eta 0:00:01\r\u001b[K     |█████████████▋                  | 307kB 8.0MB/s eta 0:00:01\r\u001b[K     |██████████████                  | 317kB 8.0MB/s eta 0:00:01\r\u001b[K     |██████████████▋                 | 327kB 8.0MB/s eta 0:00:01\r\u001b[K     |███████████████                 | 337kB 8.0MB/s eta 0:00:01\r\u001b[K     |███████████████▌                | 348kB 8.0MB/s eta 0:00:01\r\u001b[K     |████████████████                | 358kB 8.0MB/s eta 0:00:01\r\u001b[K     |████████████████▍               | 368kB 8.0MB/s eta 0:00:01\r\u001b[K     |████████████████▉               | 378kB 8.0MB/s eta 0:00:01\r\u001b[K     |█████████████████▎              | 389kB 8.0MB/s eta 0:00:01\r\u001b[K     |█████████████████▊              | 399kB 8.0MB/s eta 0:00:01\r\u001b[K     |██████████████████▏             | 409kB 8.0MB/s eta 0:00:01\r\u001b[K     |██████████████████▋             | 419kB 8.0MB/s eta 0:00:01\r\u001b[K     |███████████████████▏            | 430kB 8.0MB/s eta 0:00:01\r\u001b[K     |███████████████████▋            | 440kB 8.0MB/s eta 0:00:01\r\u001b[K     |████████████████████            | 450kB 8.0MB/s eta 0:00:01\r\u001b[K     |████████████████████▌           | 460kB 8.0MB/s eta 0:00:01\r\u001b[K     |█████████████████████           | 471kB 8.0MB/s eta 0:00:01\r\u001b[K     |█████████████████████▍          | 481kB 8.0MB/s eta 0:00:01\r\u001b[K     |█████████████████████▉          | 491kB 8.0MB/s eta 0:00:01\r\u001b[K     |██████████████████████▎         | 501kB 8.0MB/s eta 0:00:01\r\u001b[K     |██████████████████████▊         | 512kB 8.0MB/s eta 0:00:01\r\u001b[K     |███████████████████████▏        | 522kB 8.0MB/s eta 0:00:01\r\u001b[K     |███████████████████████▋        | 532kB 8.0MB/s eta 0:00:01\r\u001b[K     |████████████████████████▏       | 542kB 8.0MB/s eta 0:00:01\r\u001b[K     |████████████████████████▋       | 552kB 8.0MB/s eta 0:00:01\r\u001b[K     |█████████████████████████       | 563kB 8.0MB/s eta 0:00:01\r\u001b[K     |█████████████████████████▌      | 573kB 8.0MB/s eta 0:00:01\r\u001b[K     |██████████████████████████      | 583kB 8.0MB/s eta 0:00:01\r\u001b[K     |██████████████████████████▍     | 593kB 8.0MB/s eta 0:00:01\r\u001b[K     |██████████████████████████▉     | 604kB 8.0MB/s eta 0:00:01\r\u001b[K     |███████████████████████████▎    | 614kB 8.0MB/s eta 0:00:01\r\u001b[K     |███████████████████████████▊    | 624kB 8.0MB/s eta 0:00:01\r\u001b[K     |████████████████████████████▏   | 634kB 8.0MB/s eta 0:00:01\r\u001b[K     |████████████████████████████▊   | 645kB 8.0MB/s eta 0:00:01\r\u001b[K     |█████████████████████████████▏  | 655kB 8.0MB/s eta 0:00:01\r\u001b[K     |█████████████████████████████▋  | 665kB 8.0MB/s eta 0:00:01\r\u001b[K     |██████████████████████████████  | 675kB 8.0MB/s eta 0:00:01\r\u001b[K     |██████████████████████████████▌ | 686kB 8.0MB/s eta 0:00:01\r\u001b[K     |███████████████████████████████ | 696kB 8.0MB/s eta 0:00:01\r\u001b[K     |███████████████████████████████▍| 706kB 8.0MB/s eta 0:00:01\r\u001b[K     |███████████████████████████████▉| 716kB 8.0MB/s eta 0:00:01\r\u001b[K     |████████████████████████████████| 727kB 8.0MB/s \n",
            "\u001b[K     |████████████████████████████████| 194kB 37.7MB/s \n",
            "\u001b[K     |████████████████████████████████| 51kB 9.7MB/s \n",
            "\u001b[K     |████████████████████████████████| 1.2MB 50.7MB/s \n",
            "\u001b[K     |████████████████████████████████| 61kB 10.1MB/s \n",
            "\u001b[K     |████████████████████████████████| 61kB 11.3MB/s \n",
            "\u001b[?25hMounted at /content/gdrive\n"
          ],
          "name": "stdout"
        }
      ]
    },
    {
      "cell_type": "code",
      "metadata": {
        "id": "nQrNDam3cVDo"
      },
      "source": [
        "#hide\n",
        "from fastbook import *\n",
        "from IPython.display import display,HTML"
      ],
      "execution_count": 2,
      "outputs": []
    },
    {
      "cell_type": "code",
      "metadata": {
        "id": "FyzWEkUAczFj",
        "colab": {
          "base_uri": "https://localhost:8080/",
          "height": 17
        },
        "outputId": "2b907ffe-fbd5-443e-ecc2-2f36fa29a897"
      },
      "source": [
        "from fastai.text.all import *\n",
        "path = untar_data(URLs.IMDB)"
      ],
      "execution_count": 3,
      "outputs": [
        {
          "output_type": "display_data",
          "data": {
            "text/html": [
              ""
            ],
            "text/plain": [
              "<IPython.core.display.HTML object>"
            ]
          },
          "metadata": {
            "tags": []
          }
        }
      ]
    },
    {
      "cell_type": "code",
      "metadata": {
        "id": "ne4xls_9c185"
      },
      "source": [
        "files = get_text_files(path, folders = ['train', 'test', 'unsup'])"
      ],
      "execution_count": 4,
      "outputs": []
    },
    {
      "cell_type": "code",
      "metadata": {
        "id": "QlBpcKC6c5sP",
        "colab": {
          "base_uri": "https://localhost:8080/",
          "height": 35
        },
        "outputId": "ffa3c13b-89f5-41ca-f67d-da2895d7e6d9"
      },
      "source": [
        "txt = files[0].open().read(); txt[:75]"
      ],
      "execution_count": 5,
      "outputs": [
        {
          "output_type": "execute_result",
          "data": {
            "application/vnd.google.colaboratory.intrinsic+json": {
              "type": "string"
            },
            "text/plain": [
              "'Actually, I lied: Paul Newman deserved the Oscar for \"The Verdict\". Anyway,'"
            ]
          },
          "metadata": {
            "tags": []
          },
          "execution_count": 5
        }
      ]
    },
    {
      "cell_type": "code",
      "metadata": {
        "id": "IJlevFEFc9XC",
        "colab": {
          "base_uri": "https://localhost:8080/"
        },
        "outputId": "9b739e57-9c5c-4264-bb96-2d44f527af9b"
      },
      "source": [
        "spacy = WordTokenizer()\n",
        "toks = first(spacy([txt]))\n",
        "print(coll_repr(toks, 30))"
      ],
      "execution_count": 6,
      "outputs": [
        {
          "output_type": "stream",
          "text": [
            "(#155) ['Actually',',','I','lied',':','Paul','Newman','deserved','the','Oscar','for','\"','The','Verdict','\"','.','Anyway',',','Peter',\"O'Toole\",'gives','another','one','of','his','superlative','performances','.','How','this'...]\n"
          ],
          "name": "stdout"
        }
      ]
    },
    {
      "cell_type": "code",
      "metadata": {
        "id": "8t2HYokfc9TQ",
        "colab": {
          "base_uri": "https://localhost:8080/"
        },
        "outputId": "1716dd3c-80ad-4ce2-c1fe-884c164f7d0c"
      },
      "source": [
        "first(spacy(['The U.S. dollar $1 is $1.00.']))"
      ],
      "execution_count": 7,
      "outputs": [
        {
          "output_type": "execute_result",
          "data": {
            "text/plain": [
              "(#9) ['The','U.S.','dollar','$','1','is','$','1.00','.']"
            ]
          },
          "metadata": {
            "tags": []
          },
          "execution_count": 7
        }
      ]
    },
    {
      "cell_type": "code",
      "metadata": {
        "id": "f4Tnf_yNc9QQ",
        "colab": {
          "base_uri": "https://localhost:8080/"
        },
        "outputId": "59d08c2d-633b-4996-edf3-6c93a0ac8b31"
      },
      "source": [
        "tkn = Tokenizer(spacy)\n",
        "print(coll_repr(tkn(txt), 31))"
      ],
      "execution_count": 8,
      "outputs": [
        {
          "output_type": "stream",
          "text": [
            "(#184) ['xxbos','xxmaj','actually',',','i','lied',':','xxmaj','paul','xxmaj','newman','deserved','the','xxmaj','oscar','for','\"','the','xxmaj','verdict','\"','.','xxmaj','anyway',',','xxmaj','peter',\"o'toole\",'gives','another','one'...]\n"
          ],
          "name": "stdout"
        }
      ]
    },
    {
      "cell_type": "code",
      "metadata": {
        "id": "6KwIB9uzc9M-",
        "colab": {
          "base_uri": "https://localhost:8080/"
        },
        "outputId": "2d86ec11-b5be-4503-b49c-1706278c8352"
      },
      "source": [
        "tkn = Tokenizer(spacy)\n",
        "print(coll_repr(tkn(txt), 31))"
      ],
      "execution_count": 9,
      "outputs": [
        {
          "output_type": "stream",
          "text": [
            "(#184) ['xxbos','xxmaj','actually',',','i','lied',':','xxmaj','paul','xxmaj','newman','deserved','the','xxmaj','oscar','for','\"','the','xxmaj','verdict','\"','.','xxmaj','anyway',',','xxmaj','peter',\"o'toole\",'gives','another','one'...]\n"
          ],
          "name": "stdout"
        }
      ]
    },
    {
      "cell_type": "code",
      "metadata": {
        "id": "kqE59wQUc9HI"
      },
      "source": [
        ""
      ],
      "execution_count": 9,
      "outputs": []
    },
    {
      "cell_type": "markdown",
      "metadata": {
        "id": "WbItMc4lYcyM"
      },
      "source": [
        "Default Rules "
      ]
    },
    {
      "cell_type": "code",
      "metadata": {
        "id": "K6drYCBZc9Dx"
      },
      "source": [
        "txts = L(o.open().read() for o in files[:2000])"
      ],
      "execution_count": 10,
      "outputs": []
    },
    {
      "cell_type": "code",
      "metadata": {
        "id": "UhvsJHBTc9AX"
      },
      "source": [
        "def subword(sz):\n",
        "    sp = SubwordTokenizer(vocab_sz=sz)\n",
        "    sp.setup(txts)\n",
        "    return ' '.join(first(sp([txt]))[:40])"
      ],
      "execution_count": 11,
      "outputs": []
    },
    {
      "cell_type": "code",
      "metadata": {
        "id": "MM1rzAl7c89S",
        "colab": {
          "base_uri": "https://localhost:8080/",
          "height": 35
        },
        "outputId": "8973448a-56b3-460a-8c18-bcec94719a93"
      },
      "source": [
        "subword(1000)"
      ],
      "execution_count": 12,
      "outputs": [
        {
          "output_type": "display_data",
          "data": {
            "text/html": [
              ""
            ],
            "text/plain": [
              "<IPython.core.display.HTML object>"
            ]
          },
          "metadata": {
            "tags": []
          }
        },
        {
          "output_type": "execute_result",
          "data": {
            "application/vnd.google.colaboratory.intrinsic+json": {
              "type": "string"
            },
            "text/plain": [
              "'▁A c t u ally , ▁I ▁li ed : ▁P a ul ▁New man ▁deserve d ▁the ▁O s c ar ▁for ▁\" The ▁V er d ic t \" . ▁An y way , ▁P e ter ▁O'"
            ]
          },
          "metadata": {
            "tags": []
          },
          "execution_count": 12
        }
      ]
    },
    {
      "cell_type": "code",
      "metadata": {
        "id": "hoRW2JCZc858",
        "colab": {
          "base_uri": "https://localhost:8080/",
          "height": 35
        },
        "outputId": "4a32f313-2d8a-4343-e117-e6bb79449452"
      },
      "source": [
        "subword(200)"
      ],
      "execution_count": 13,
      "outputs": [
        {
          "output_type": "display_data",
          "data": {
            "text/html": [
              ""
            ],
            "text/plain": [
              "<IPython.core.display.HTML object>"
            ]
          },
          "metadata": {
            "tags": []
          }
        },
        {
          "output_type": "execute_result",
          "data": {
            "application/vnd.google.colaboratory.intrinsic+json": {
              "type": "string"
            },
            "text/plain": [
              "'▁A c t u al ly , ▁I ▁ li ed : ▁ P a u l ▁ N e w m an ▁d es er ve d ▁the ▁ O s c ar ▁for ▁ \" T h e'"
            ]
          },
          "metadata": {
            "tags": []
          },
          "execution_count": 13
        }
      ]
    },
    {
      "cell_type": "code",
      "metadata": {
        "id": "Pin2K2GJc82f",
        "colab": {
          "base_uri": "https://localhost:8080/",
          "height": 53
        },
        "outputId": "c307523a-c24b-482f-f1b5-0023e8675aa3"
      },
      "source": [
        "subword(10000)"
      ],
      "execution_count": 14,
      "outputs": [
        {
          "output_type": "display_data",
          "data": {
            "text/html": [
              ""
            ],
            "text/plain": [
              "<IPython.core.display.HTML object>"
            ]
          },
          "metadata": {
            "tags": []
          }
        },
        {
          "output_type": "execute_result",
          "data": {
            "application/vnd.google.colaboratory.intrinsic+json": {
              "type": "string"
            },
            "text/plain": [
              "'▁Actually , ▁I ▁li ed : ▁Paul ▁Newman ▁deserved ▁the ▁Oscar ▁for ▁\" The ▁Ver d ic t \". ▁Anyway , ▁Peter ▁O \\' Toole ▁give s ▁another ▁one ▁of ▁his ▁superlative ▁performances . ▁How ▁this ▁man ▁doesn \\' t'"
            ]
          },
          "metadata": {
            "tags": []
          },
          "execution_count": 14
        }
      ]
    },
    {
      "cell_type": "code",
      "metadata": {
        "id": "3kj7ltz3c8zH",
        "colab": {
          "base_uri": "https://localhost:8080/"
        },
        "outputId": "9df2c6d8-506f-40a9-f2c1-801b800deb71"
      },
      "source": [
        "toks = tkn(txt)\n",
        "print(coll_repr(tkn(txt), 31))"
      ],
      "execution_count": 15,
      "outputs": [
        {
          "output_type": "stream",
          "text": [
            "(#184) ['xxbos','xxmaj','actually',',','i','lied',':','xxmaj','paul','xxmaj','newman','deserved','the','xxmaj','oscar','for','\"','the','xxmaj','verdict','\"','.','xxmaj','anyway',',','xxmaj','peter',\"o'toole\",'gives','another','one'...]\n"
          ],
          "name": "stdout"
        }
      ]
    },
    {
      "cell_type": "code",
      "metadata": {
        "id": "ZGU9YTB4c8v2",
        "colab": {
          "base_uri": "https://localhost:8080/"
        },
        "outputId": "a298fa4d-585b-4727-fee5-e82740328c81"
      },
      "source": [
        "toks200 = txts[:200].map(tkn)\n",
        "toks200[0]"
      ],
      "execution_count": 16,
      "outputs": [
        {
          "output_type": "execute_result",
          "data": {
            "text/plain": [
              "(#184) ['xxbos','xxmaj','actually',',','i','lied',':','xxmaj','paul','xxmaj'...]"
            ]
          },
          "metadata": {
            "tags": []
          },
          "execution_count": 16
        }
      ]
    },
    {
      "cell_type": "code",
      "metadata": {
        "id": "mxDynM4Tc8sg",
        "colab": {
          "base_uri": "https://localhost:8080/",
          "height": 35
        },
        "outputId": "f6e0b44e-8f14-40a0-915c-2e5d109fd95a"
      },
      "source": [
        "num = Numericalize()\n",
        "num.setup(toks200)\n",
        "coll_repr(num.vocab,20)"
      ],
      "execution_count": 17,
      "outputs": [
        {
          "output_type": "execute_result",
          "data": {
            "application/vnd.google.colaboratory.intrinsic+json": {
              "type": "string"
            },
            "text/plain": [
              "\"(#1960) ['xxunk','xxpad','xxbos','xxeos','xxfld','xxrep','xxwrep','xxup','xxmaj','the','.',',','a','and','of','to','is','it','in','i'...]\""
            ]
          },
          "metadata": {
            "tags": []
          },
          "execution_count": 17
        }
      ]
    },
    {
      "cell_type": "code",
      "metadata": {
        "id": "sPqaf1zxc8pN",
        "colab": {
          "base_uri": "https://localhost:8080/"
        },
        "outputId": "89f81268-4f75-4c33-e0c4-d36c51c0d87d"
      },
      "source": [
        "nums = num(toks)[:20]; nums"
      ],
      "execution_count": 18,
      "outputs": [
        {
          "output_type": "execute_result",
          "data": {
            "text/plain": [
              "TensorText([   2,    8,  224,   11,   19,    0,  111,    8,  563,    8,    0, 1435,    9,    8,  461,   27,   20,    9,    8,    0])"
            ]
          },
          "metadata": {
            "tags": []
          },
          "execution_count": 18
        }
      ]
    },
    {
      "cell_type": "code",
      "metadata": {
        "id": "UAho42qQc8l0",
        "colab": {
          "base_uri": "https://localhost:8080/",
          "height": 35
        },
        "outputId": "273fafa8-94fc-45e4-be1c-44ab4a1aefb9"
      },
      "source": [
        "' '.join(num.vocab[o] for o in nums)"
      ],
      "execution_count": 19,
      "outputs": [
        {
          "output_type": "execute_result",
          "data": {
            "application/vnd.google.colaboratory.intrinsic+json": {
              "type": "string"
            },
            "text/plain": [
              "'xxbos xxmaj actually , i xxunk : xxmaj paul xxmaj xxunk deserved the xxmaj oscar for \" the xxmaj xxunk'"
            ]
          },
          "metadata": {
            "tags": []
          },
          "execution_count": 19
        }
      ]
    },
    {
      "cell_type": "markdown",
      "metadata": {
        "id": "CT0Aob2jY7oB"
      },
      "source": [
        "Batches =No Resize "
      ]
    },
    {
      "cell_type": "code",
      "metadata": {
        "id": "wDmWNvL6c8fW"
      },
      "source": [
        "nums200 = toks200.map(num)"
      ],
      "execution_count": 20,
      "outputs": []
    },
    {
      "cell_type": "code",
      "metadata": {
        "id": "fM3wAz3gc5o8"
      },
      "source": [
        "dl = LMDataLoader(nums200)"
      ],
      "execution_count": 21,
      "outputs": []
    },
    {
      "cell_type": "code",
      "metadata": {
        "id": "86A-SEs7c5nQ",
        "colab": {
          "base_uri": "https://localhost:8080/"
        },
        "outputId": "26420d7e-7033-4b3d-ed45-a18e85288adc"
      },
      "source": [
        "x,y = first(dl)\n",
        "x.shape,y.shape"
      ],
      "execution_count": 22,
      "outputs": [
        {
          "output_type": "execute_result",
          "data": {
            "text/plain": [
              "(torch.Size([64, 72]), torch.Size([64, 72]))"
            ]
          },
          "metadata": {
            "tags": []
          },
          "execution_count": 22
        }
      ]
    },
    {
      "cell_type": "code",
      "metadata": {
        "id": "TATLOMX3c5lN",
        "colab": {
          "base_uri": "https://localhost:8080/",
          "height": 35
        },
        "outputId": "3d7f7dba-752c-4e92-e69c-f2dca07bffc0"
      },
      "source": [
        "' '.join(num.vocab[o] for o in x[0][:20])"
      ],
      "execution_count": 23,
      "outputs": [
        {
          "output_type": "execute_result",
          "data": {
            "application/vnd.google.colaboratory.intrinsic+json": {
              "type": "string"
            },
            "text/plain": [
              "'xxbos xxmaj actually , i xxunk : xxmaj paul xxmaj xxunk deserved the xxmaj oscar for \" the xxmaj xxunk'"
            ]
          },
          "metadata": {
            "tags": []
          },
          "execution_count": 23
        }
      ]
    },
    {
      "cell_type": "code",
      "metadata": {
        "id": "SrC_rMNAc5i8",
        "colab": {
          "base_uri": "https://localhost:8080/",
          "height": 35
        },
        "outputId": "6df5a381-043b-40eb-92b5-9a59fa25a9f4"
      },
      "source": [
        "' '.join(num.vocab[o] for o in y[0][:20])"
      ],
      "execution_count": 24,
      "outputs": [
        {
          "output_type": "execute_result",
          "data": {
            "application/vnd.google.colaboratory.intrinsic+json": {
              "type": "string"
            },
            "text/plain": [
              "'xxmaj actually , i xxunk : xxmaj paul xxmaj xxunk deserved the xxmaj oscar for \" the xxmaj xxunk \"'"
            ]
          },
          "metadata": {
            "tags": []
          },
          "execution_count": 24
        }
      ]
    },
    {
      "cell_type": "code",
      "metadata": {
        "id": "l2735PGsc5hE",
        "colab": {
          "base_uri": "https://localhost:8080/",
          "height": 17
        },
        "outputId": "c5e8a581-4874-4f7c-f165-98dcb3f39450"
      },
      "source": [
        "get_imdb = partial(get_text_files, folders=['train', 'test', 'unsup'])\n",
        "dls_lm = DataBlock(\n",
        "    blocks=TextBlock.from_folder(path, is_lm=True),\n",
        "    get_items=get_imdb, splitter=RandomSplitter(0.1)\n",
        ").dataloaders(path, path=path, bs=128, seq_len=80)"
      ],
      "execution_count": 25,
      "outputs": [
        {
          "output_type": "display_data",
          "data": {
            "text/html": [
              ""
            ],
            "text/plain": [
              "<IPython.core.display.HTML object>"
            ]
          },
          "metadata": {
            "tags": []
          }
        }
      ]
    },
    {
      "cell_type": "code",
      "metadata": {
        "id": "argrHXO2c5bF",
        "colab": {
          "base_uri": "https://localhost:8080/",
          "height": 251
        },
        "outputId": "e033e4a7-ded3-460b-c3d8-dd0e0accfe0b"
      },
      "source": [
        "dls_lm.show_batch(max_n=2)"
      ],
      "execution_count": 26,
      "outputs": [
        {
          "output_type": "display_data",
          "data": {
            "text/html": [
              "<table border=\"1\" class=\"dataframe\">\n",
              "  <thead>\n",
              "    <tr style=\"text-align: right;\">\n",
              "      <th></th>\n",
              "      <th>text</th>\n",
              "      <th>text_</th>\n",
              "    </tr>\n",
              "  </thead>\n",
              "  <tbody>\n",
              "    <tr>\n",
              "      <th>0</th>\n",
              "      <td>xxbos xxmaj xxunk ( which reads xxmaj starstruck on my box ) was the most amazing movie i have ever seen . i thought that it was one of the best movies i have ever seen . xxmaj so why not a 10 ? xxmaj nothing is perfect . xxmaj jamie xxmaj kennedy proves why he is one of my favorite actors in this very interesting look at a darker side of xxmaj hollywood . i have forced a few</td>\n",
              "      <td>xxmaj xxunk ( which reads xxmaj starstruck on my box ) was the most amazing movie i have ever seen . i thought that it was one of the best movies i have ever seen . xxmaj so why not a 10 ? xxmaj nothing is perfect . xxmaj jamie xxmaj kennedy proves why he is one of my favorite actors in this very interesting look at a darker side of xxmaj hollywood . i have forced a few others</td>\n",
              "    </tr>\n",
              "    <tr>\n",
              "      <th>1</th>\n",
              "      <td>can repel you for several pages of story and take your mind away from what 's happening on the current page . xxmaj the sheriff in xxmaj texas picked up the phone and called xxmaj san xxmaj francisco based on a badly drawn composite . \" yeah , we 've got your guy . i was picking my ass looking for something to do and i noticed the striking similarity between one of our rape suspects and your stick -</td>\n",
              "      <td>repel you for several pages of story and take your mind away from what 's happening on the current page . xxmaj the sheriff in xxmaj texas picked up the phone and called xxmaj san xxmaj francisco based on a badly drawn composite . \" yeah , we 've got your guy . i was picking my ass looking for something to do and i noticed the striking similarity between one of our rape suspects and your stick - man</td>\n",
              "    </tr>\n",
              "  </tbody>\n",
              "</table>"
            ],
            "text/plain": [
              "<IPython.core.display.HTML object>"
            ]
          },
          "metadata": {
            "tags": []
          }
        }
      ]
    },
    {
      "cell_type": "code",
      "metadata": {
        "id": "wR33cLf6c5OU",
        "colab": {
          "base_uri": "https://localhost:8080/",
          "height": 17
        },
        "outputId": "df118bb1-8554-4324-8faa-8eff74ef98ba"
      },
      "source": [
        "learn = language_model_learner(\n",
        "    dls_lm, AWD_LSTM, drop_mult=0.3, \n",
        "    metrics=[accuracy, Perplexity()]).to_fp16()"
      ],
      "execution_count": 27,
      "outputs": [
        {
          "output_type": "display_data",
          "data": {
            "text/html": [
              ""
            ],
            "text/plain": [
              "<IPython.core.display.HTML object>"
            ]
          },
          "metadata": {
            "tags": []
          }
        }
      ]
    },
    {
      "cell_type": "code",
      "metadata": {
        "id": "prP1c6uqc5K6",
        "colab": {
          "base_uri": "https://localhost:8080/",
          "height": 81
        },
        "outputId": "313261eb-c4e5-4f94-9b6a-577b2abd4470"
      },
      "source": [
        "learn.fit_one_cycle(1, 2e-2)"
      ],
      "execution_count": 28,
      "outputs": [
        {
          "output_type": "display_data",
          "data": {
            "text/html": [
              "<table border=\"1\" class=\"dataframe\">\n",
              "  <thead>\n",
              "    <tr style=\"text-align: left;\">\n",
              "      <th>epoch</th>\n",
              "      <th>train_loss</th>\n",
              "      <th>valid_loss</th>\n",
              "      <th>accuracy</th>\n",
              "      <th>perplexity</th>\n",
              "      <th>time</th>\n",
              "    </tr>\n",
              "  </thead>\n",
              "  <tbody>\n",
              "    <tr>\n",
              "      <td>0</td>\n",
              "      <td>4.013940</td>\n",
              "      <td>3.903325</td>\n",
              "      <td>0.299751</td>\n",
              "      <td>49.567001</td>\n",
              "      <td>21:09</td>\n",
              "    </tr>\n",
              "  </tbody>\n",
              "</table>"
            ],
            "text/plain": [
              "<IPython.core.display.HTML object>"
            ]
          },
          "metadata": {
            "tags": []
          }
        }
      ]
    },
    {
      "cell_type": "code",
      "metadata": {
        "id": "DI7Z_5w8c5Hq",
        "colab": {
          "base_uri": "https://localhost:8080/"
        },
        "outputId": "f2a6868c-8a45-4707-80e7-210eb6e89283"
      },
      "source": [
        "learn.save('1epoch')"
      ],
      "execution_count": 29,
      "outputs": [
        {
          "output_type": "execute_result",
          "data": {
            "text/plain": [
              "Path('/root/.fastai/data/imdb/models/1epoch.pth')"
            ]
          },
          "metadata": {
            "tags": []
          },
          "execution_count": 29
        }
      ]
    },
    {
      "cell_type": "code",
      "metadata": {
        "id": "WTWcHGxsc5FH"
      },
      "source": [
        "learn = learn.load('1epoch')"
      ],
      "execution_count": 30,
      "outputs": []
    },
    {
      "cell_type": "code",
      "metadata": {
        "id": "clgHiG7Fc5Bv",
        "colab": {
          "base_uri": "https://localhost:8080/",
          "height": 81
        },
        "outputId": "cc73e598-0b1c-47e6-9e90-7d7846949368"
      },
      "source": [
        "learn.unfreeze()\n",
        "learn.fit_one_cycle(1, 2e-3)"
      ],
      "execution_count": 31,
      "outputs": [
        {
          "output_type": "display_data",
          "data": {
            "text/html": [
              "<table border=\"1\" class=\"dataframe\">\n",
              "  <thead>\n",
              "    <tr style=\"text-align: left;\">\n",
              "      <th>epoch</th>\n",
              "      <th>train_loss</th>\n",
              "      <th>valid_loss</th>\n",
              "      <th>accuracy</th>\n",
              "      <th>perplexity</th>\n",
              "      <th>time</th>\n",
              "    </tr>\n",
              "  </thead>\n",
              "  <tbody>\n",
              "    <tr>\n",
              "      <td>0</td>\n",
              "      <td>3.675709</td>\n",
              "      <td>3.675731</td>\n",
              "      <td>0.326583</td>\n",
              "      <td>39.477512</td>\n",
              "      <td>22:43</td>\n",
              "    </tr>\n",
              "  </tbody>\n",
              "</table>"
            ],
            "text/plain": [
              "<IPython.core.display.HTML object>"
            ]
          },
          "metadata": {
            "tags": []
          }
        }
      ]
    },
    {
      "cell_type": "code",
      "metadata": {
        "id": "bZy3D50sc4-y"
      },
      "source": [
        "learn.save_encoder('finetuned')"
      ],
      "execution_count": 32,
      "outputs": []
    },
    {
      "cell_type": "code",
      "metadata": {
        "id": "vmS9q9zZc47s",
        "colab": {
          "base_uri": "https://localhost:8080/",
          "height": 17
        },
        "outputId": "a15f2423-2476-4d1d-a970-343563babde2"
      },
      "source": [
        "TEXT = \"I liked this movie because\"\n",
        "N_WORDS = 40\n",
        "N_SENTENCES = 2\n",
        "preds = [learn.predict(TEXT, N_WORDS, temperature=0.75) \n",
        "         for _ in range(N_SENTENCES)]"
      ],
      "execution_count": 34,
      "outputs": [
        {
          "output_type": "display_data",
          "data": {
            "text/html": [
              ""
            ],
            "text/plain": [
              "<IPython.core.display.HTML object>"
            ]
          },
          "metadata": {
            "tags": []
          }
        },
        {
          "output_type": "display_data",
          "data": {
            "text/html": [
              ""
            ],
            "text/plain": [
              "<IPython.core.display.HTML object>"
            ]
          },
          "metadata": {
            "tags": []
          }
        }
      ]
    },
    {
      "cell_type": "code",
      "metadata": {
        "id": "3b0Rkpdlc441",
        "colab": {
          "base_uri": "https://localhost:8080/"
        },
        "outputId": "70c04d85-57dc-4053-f56a-9351831259ad"
      },
      "source": [
        "print(\"\\n\".join(preds))"
      ],
      "execution_count": 36,
      "outputs": [
        {
          "output_type": "stream",
          "text": [
            "i liked this movie because of the charming characters , the likeable Joey and the tough - guy Joey . \n",
            "\n",
            " The movie is not about the Mafia but about the power of the people . It 's a great\n",
            "i liked this movie because it was made for television . It 's a story of two brothers , both played by Dennis Hopper and John Travolta . However , they never really know each other . Being\n"
          ],
          "name": "stdout"
        }
      ]
    },
    {
      "cell_type": "code",
      "metadata": {
        "id": "RKiWChEvc418"
      },
      "source": [
        "dls_clas = DataBlock(\n",
        "    blocks=(TextBlock.from_folder(path, vocab=dls_lm.vocab),CategoryBlock),\n",
        "    get_y = parent_label,\n",
        "    get_items=partial(get_text_files, folders=['train', 'test']),\n",
        "    splitter=GrandparentSplitter(valid_name='test')\n",
        ").dataloaders(path, path=path, bs=128, seq_len=72)"
      ],
      "execution_count": 37,
      "outputs": []
    },
    {
      "cell_type": "code",
      "metadata": {
        "id": "RIlT9yiAc4zq",
        "colab": {
          "base_uri": "https://localhost:8080/",
          "height": 351
        },
        "outputId": "3aa3c801-6656-4969-bed7-9cd825422b32"
      },
      "source": [
        "dls_clas.show_batch(max_n=3)"
      ],
      "execution_count": 38,
      "outputs": [
        {
          "output_type": "display_data",
          "data": {
            "text/html": [
              "<table border=\"1\" class=\"dataframe\">\n",
              "  <thead>\n",
              "    <tr style=\"text-align: right;\">\n",
              "      <th></th>\n",
              "      <th>text</th>\n",
              "      <th>category</th>\n",
              "    </tr>\n",
              "  </thead>\n",
              "  <tbody>\n",
              "    <tr>\n",
              "      <th>0</th>\n",
              "      <td>xxbos xxmaj match 1 : xxmaj tag xxmaj team xxmaj table xxmaj match xxmaj bubba xxmaj ray and xxmaj spike xxmaj dudley vs xxmaj eddie xxmaj guerrero and xxmaj chris xxmaj benoit xxmaj bubba xxmaj ray and xxmaj spike xxmaj dudley started things off with a xxmaj tag xxmaj team xxmaj table xxmaj match against xxmaj eddie xxmaj guerrero and xxmaj chris xxmaj benoit . xxmaj according to the rules of the match , both opponents have to go through tables in order to get the win . xxmaj benoit and xxmaj guerrero heated up early on by taking turns hammering first xxmaj spike and then xxmaj bubba xxmaj ray . a xxmaj german xxunk by xxmaj benoit to xxmaj bubba took the wind out of the xxmaj dudley brother . xxmaj spike tried to help his brother , but the referee restrained him while xxmaj benoit and xxmaj guerrero</td>\n",
              "      <td>pos</td>\n",
              "    </tr>\n",
              "    <tr>\n",
              "      <th>1</th>\n",
              "      <td>xxbos xxmaj by now you 've probably heard a bit about the new xxmaj disney dub of xxmaj miyazaki 's classic film , xxmaj laputa : xxmaj castle xxmaj in xxmaj the xxmaj sky . xxmaj during late summer of 1998 , xxmaj disney released \" kiki 's xxmaj delivery xxmaj service \" on video which included a preview of the xxmaj laputa dub saying it was due out in \" 1 xxrep 3 9 \" . xxmaj it 's obviously way past that year now , but the dub has been finally completed . xxmaj and it 's not \" laputa : xxmaj castle xxmaj in xxmaj the xxmaj sky \" , just \" castle xxmaj in xxmaj the xxmaj sky \" for the dub , since xxmaj laputa is not such a nice word in xxmaj spanish ( even though they use the word xxmaj laputa many times</td>\n",
              "      <td>pos</td>\n",
              "    </tr>\n",
              "    <tr>\n",
              "      <th>2</th>\n",
              "      <td>xxbos xxmaj warning : xxmaj does contain spoilers . \\n\\n xxmaj open xxmaj your xxmaj eyes \\n\\n xxmaj if you have not seen this film and plan on doing so , just stop reading here and take my word for it . xxmaj you have to see this film . i have seen it four times so far and i still have n't made up my mind as to what exactly happened in the film . xxmaj that is all i am going to say because if you have not seen this film , then stop reading right now . \\n\\n xxmaj if you are still reading then i am going to pose some questions to you and maybe if anyone has any answers you can email me and let me know what you think . \\n\\n i remember my xxmaj grade 11 xxmaj english teacher quite well . xxmaj</td>\n",
              "      <td>pos</td>\n",
              "    </tr>\n",
              "  </tbody>\n",
              "</table>"
            ],
            "text/plain": [
              "<IPython.core.display.HTML object>"
            ]
          },
          "metadata": {
            "tags": []
          }
        }
      ]
    },
    {
      "cell_type": "code",
      "metadata": {
        "id": "_c5D3mXvc4wG"
      },
      "source": [
        "nums_samp = toks200[:10].map(num)"
      ],
      "execution_count": 39,
      "outputs": []
    },
    {
      "cell_type": "code",
      "metadata": {
        "id": "xOtbikv0c4sD",
        "colab": {
          "base_uri": "https://localhost:8080/"
        },
        "outputId": "6c61df8f-b272-49af-cf20-5f3918492364"
      },
      "source": [
        "nums_samp.map(len)"
      ],
      "execution_count": 40,
      "outputs": [
        {
          "output_type": "execute_result",
          "data": {
            "text/plain": [
              "(#10) [184,136,248,91,179,161,327,273,200,207]"
            ]
          },
          "metadata": {
            "tags": []
          },
          "execution_count": 40
        }
      ]
    },
    {
      "cell_type": "code",
      "metadata": {
        "id": "EPGzpbVXc4nN"
      },
      "source": [
        "learn = text_classifier_learner(dls_clas, AWD_LSTM, drop_mult=0.5, \n",
        "                                metrics=accuracy).to_fp16()"
      ],
      "execution_count": 41,
      "outputs": []
    },
    {
      "cell_type": "code",
      "metadata": {
        "id": "8pmQFfddc4ix"
      },
      "source": [
        "learn = learn.load_encoder('finetuned')"
      ],
      "execution_count": 42,
      "outputs": []
    },
    {
      "cell_type": "code",
      "metadata": {
        "id": "ruBd3fAOc4gG",
        "colab": {
          "base_uri": "https://localhost:8080/",
          "height": 81
        },
        "outputId": "7aa0059e-4211-4ecb-bafe-740253391893"
      },
      "source": [
        "learn.fit_one_cycle(1, 2e-2)"
      ],
      "execution_count": 43,
      "outputs": [
        {
          "output_type": "display_data",
          "data": {
            "text/html": [
              "<table border=\"1\" class=\"dataframe\">\n",
              "  <thead>\n",
              "    <tr style=\"text-align: left;\">\n",
              "      <th>epoch</th>\n",
              "      <th>train_loss</th>\n",
              "      <th>valid_loss</th>\n",
              "      <th>accuracy</th>\n",
              "      <th>time</th>\n",
              "    </tr>\n",
              "  </thead>\n",
              "  <tbody>\n",
              "    <tr>\n",
              "      <td>0</td>\n",
              "      <td>0.286695</td>\n",
              "      <td>0.230190</td>\n",
              "      <td>0.907920</td>\n",
              "      <td>01:11</td>\n",
              "    </tr>\n",
              "  </tbody>\n",
              "</table>"
            ],
            "text/plain": [
              "<IPython.core.display.HTML object>"
            ]
          },
          "metadata": {
            "tags": []
          }
        }
      ]
    },
    {
      "cell_type": "code",
      "metadata": {
        "id": "uhB8IQI_c4dI",
        "colab": {
          "base_uri": "https://localhost:8080/",
          "height": 81
        },
        "outputId": "70d7e7cc-82e4-433e-b396-5e36ba0ebcc3"
      },
      "source": [
        "learn.freeze_to(-2)\n",
        "learn.fit_one_cycle(1, slice(1e-2/(2.6**4),1e-2))"
      ],
      "execution_count": 44,
      "outputs": [
        {
          "output_type": "display_data",
          "data": {
            "text/html": [
              "<table border=\"1\" class=\"dataframe\">\n",
              "  <thead>\n",
              "    <tr style=\"text-align: left;\">\n",
              "      <th>epoch</th>\n",
              "      <th>train_loss</th>\n",
              "      <th>valid_loss</th>\n",
              "      <th>accuracy</th>\n",
              "      <th>time</th>\n",
              "    </tr>\n",
              "  </thead>\n",
              "  <tbody>\n",
              "    <tr>\n",
              "      <td>0</td>\n",
              "      <td>0.244555</td>\n",
              "      <td>0.190130</td>\n",
              "      <td>0.926400</td>\n",
              "      <td>01:16</td>\n",
              "    </tr>\n",
              "  </tbody>\n",
              "</table>"
            ],
            "text/plain": [
              "<IPython.core.display.HTML object>"
            ]
          },
          "metadata": {
            "tags": []
          }
        }
      ]
    },
    {
      "cell_type": "code",
      "metadata": {
        "id": "mXQZ7gbpc4bh",
        "colab": {
          "base_uri": "https://localhost:8080/",
          "height": 81
        },
        "outputId": "de070793-5760-4485-8791-bae779be8adf"
      },
      "source": [
        "learn.freeze_to(-3)\n",
        "learn.fit_one_cycle(1, slice(5e-3/(2.6**4),5e-3))"
      ],
      "execution_count": 45,
      "outputs": [
        {
          "output_type": "display_data",
          "data": {
            "text/html": [
              "<table border=\"1\" class=\"dataframe\">\n",
              "  <thead>\n",
              "    <tr style=\"text-align: left;\">\n",
              "      <th>epoch</th>\n",
              "      <th>train_loss</th>\n",
              "      <th>valid_loss</th>\n",
              "      <th>accuracy</th>\n",
              "      <th>time</th>\n",
              "    </tr>\n",
              "  </thead>\n",
              "  <tbody>\n",
              "    <tr>\n",
              "      <td>0</td>\n",
              "      <td>0.204420</td>\n",
              "      <td>0.170254</td>\n",
              "      <td>0.934680</td>\n",
              "      <td>01:36</td>\n",
              "    </tr>\n",
              "  </tbody>\n",
              "</table>"
            ],
            "text/plain": [
              "<IPython.core.display.HTML object>"
            ]
          },
          "metadata": {
            "tags": []
          }
        }
      ]
    },
    {
      "cell_type": "code",
      "metadata": {
        "id": "POVoCJYbc4WI",
        "colab": {
          "base_uri": "https://localhost:8080/",
          "height": 112
        },
        "outputId": "0f6b1f19-8336-4997-f2bc-bc3f63f8373e"
      },
      "source": [
        "learn.unfreeze()\n",
        "learn.fit_one_cycle(2, slice(1e-3/(2.6**4),1e-3))"
      ],
      "execution_count": 46,
      "outputs": [
        {
          "output_type": "display_data",
          "data": {
            "text/html": [
              "<table border=\"1\" class=\"dataframe\">\n",
              "  <thead>\n",
              "    <tr style=\"text-align: left;\">\n",
              "      <th>epoch</th>\n",
              "      <th>train_loss</th>\n",
              "      <th>valid_loss</th>\n",
              "      <th>accuracy</th>\n",
              "      <th>time</th>\n",
              "    </tr>\n",
              "  </thead>\n",
              "  <tbody>\n",
              "    <tr>\n",
              "      <td>0</td>\n",
              "      <td>0.162198</td>\n",
              "      <td>0.173507</td>\n",
              "      <td>0.935080</td>\n",
              "      <td>01:57</td>\n",
              "    </tr>\n",
              "    <tr>\n",
              "      <td>1</td>\n",
              "      <td>0.148791</td>\n",
              "      <td>0.171044</td>\n",
              "      <td>0.936720</td>\n",
              "      <td>01:57</td>\n",
              "    </tr>\n",
              "  </tbody>\n",
              "</table>"
            ],
            "text/plain": [
              "<IPython.core.display.HTML object>"
            ]
          },
          "metadata": {
            "tags": []
          }
        }
      ]
    },
    {
      "cell_type": "code",
      "metadata": {
        "id": "WMQQGsp2c4Ts"
      },
      "source": [
        "pretrained model+ fine-tuned it for task+ body (the encoder)+ New Head( Encoder) "
      ],
      "execution_count": null,
      "outputs": []
    }
  ]
}